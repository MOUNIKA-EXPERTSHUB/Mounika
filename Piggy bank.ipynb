{
 "cells": [
  {
   "cell_type": "markdown",
   "metadata": {},
   "source": [
    "# Piggy Bank Software\n",
    "We should create a piigy bank application for school children to teach them importance of savings. They should have the option to :\n",
    "\n",
    "Add money\n",
    "withdraw money\n",
    "Check the current amount in the piggy bank"
   ]
  },
  {
   "cell_type": "code",
   "execution_count": 1,
   "metadata": {},
   "outputs": [],
   "source": [
    "from enum import Enum\n",
    "class Transaction(Enum):\n",
    "    '''Enumerations for the type of piggy bank transactions '''\n",
    "    START = 1\n",
    "    ADD = 2\n",
    "    WITHDRAW = 3\n",
    "    CHECK = 4\n",
    "    END = 5\n",
    "    LIMIT = 100000"
   ]
  },
  {
   "cell_type": "code",
   "execution_count": 2,
   "metadata": {},
   "outputs": [],
   "source": [
    "class PiggyBank:\n",
    "    def __init__(self):\n",
    "        self.Balance = 0    \n",
    "        \n",
    "    \n",
    "    def DoTransaction(self): \n",
    "        '''Do transactions like Add, Withdraw and Check balance, once you Start'''\n",
    "        begin = True\n",
    "        while begin:\n",
    "            transaction = str(input(\"Please Enter Start or End: \")).upper().strip()\n",
    "            \n",
    "            if transaction == Transaction.START.name: \n",
    "                amount = 0\n",
    "                transaction = str(input(\"Do you want to Add, Withdraw or Check: \")).upper().strip()\n",
    "                \n",
    "                if transaction == Transaction.ADD.name:\n",
    "                    amount = self.EnterAmount()\n",
    "                    self.AddMoney(amount)\n",
    "                    self.CheckBalance()        \n",
    "                    \n",
    "                elif transaction == Transaction.WITHDRAW.name:\n",
    "                    amount = self.EnterAmount()\n",
    "                    self.WithDraw(amount)\n",
    "                    self.CheckBalance()        \n",
    "                    \n",
    "                elif transaction == Transaction.CHECK.name:      \n",
    "                    self.CheckBalance()\n",
    "                    \n",
    "                else:\n",
    "                    print(\"Not valid entry\\n\")\n",
    "                    \n",
    "            elif transaction == Transaction.END.name:\n",
    "                begin = False\n",
    "            else:\n",
    "                print(\"Not valid entry. Please Enter Start or End\\n\")\n",
    "            \n",
    "    def AddMoney(self, amount):  \n",
    "        '''float - amount\n",
    "        Add amount to available balance'''\n",
    "        if(self.Balance + amount > Transaction.LIMIT.value):\n",
    "            print(\"You have reached your limit, this Piggy Bank cannot hold more than {}\".format(Transaction.LIMIT.value))            \n",
    "        else:\n",
    "            self.Balance = amount + self.Balance \n",
    "        return\n",
    "    \n",
    "    def WithDraw(self, amount):\n",
    "        '''float - amount\n",
    "        subtract amount from available balance'''\n",
    "        if(self.Balance != 0 and amount <= self.Balance):\n",
    "            self.Balance = self.Balance - amount\n",
    "        else:\n",
    "            print(\"You do not have sufficient Balance.\")        \n",
    "        return\n",
    "    \n",
    "    def CheckBalance(self):       \n",
    "        '''Check balance available in piggy bank'''\n",
    "        print(\"Balance amount in your Piggy Bank is: Rs. {}\\n\".format(self.Balance))\n",
    "        return\n",
    "    \n",
    "    def EnterAmount(self):  \n",
    "        '''Enter amount to be added or withdrawn from piggy bank'''\n",
    "        amount = 0\n",
    "        try:\n",
    "            amount = float(input(\"Enter amount: \"))\n",
    "        except ValueError as err:\n",
    "            print('Please enter a Valid number\\n')            \n",
    "        return amount"
   ]
  },
  {
   "cell_type": "code",
   "execution_count": 3,
   "metadata": {},
   "outputs": [
    {
     "name": "stdout",
     "output_type": "stream",
     "text": [
      "Please Enter Start or End: Start\n",
      "Do you want to Add, Withdraw or Check: Add\n",
      "Enter amount: 1000\n",
      "Balance amount in your Piggy Bank is: Rs. 1000.0\n",
      "\n",
      "Please Enter Start or End: Start\n",
      "Do you want to Add, Withdraw or Check: Withdraw\n",
      "Enter amount: 300\n",
      "Balance amount in your Piggy Bank is: Rs. 700.0\n",
      "\n",
      "Please Enter Start or End: Start\n",
      "Do you want to Add, Withdraw or Check: Check\n",
      "Balance amount in your Piggy Bank is: Rs. 700.0\n",
      "\n",
      "Please Enter Start or End: End\n"
     ]
    }
   ],
   "source": [
    "bank = PiggyBank()\n",
    "bank.DoTransaction()"
   ]
  },
  {
   "cell_type": "markdown",
   "metadata": {},
   "source": [
    "# Assignment\n",
    "Our Piggy Bank is working as expected. Can you think of some more funcationality and add them to the existing project \n",
    "which may help the school children."
   ]
  },
  {
   "cell_type": "code",
   "execution_count": 4,
   "metadata": {},
   "outputs": [
    {
     "name": "stdout",
     "output_type": "stream",
     "text": [
      "Please Enter Start or End: Start\n",
      "Do you want to Add, Withdraw or Check: Add\n",
      "Enter amount: 1000000\n",
      "You have reached your limit, this Piggy Bank cannot hold more than 100000\n",
      "Balance amount in your Piggy Bank is: Rs. 700.0\n",
      "\n",
      "Please Enter Start or End: Start\n",
      "Do you want to Add, Withdraw or Check: Withdraw\n",
      "Enter amount: 10000\n",
      "You do not have sufficient Balance.\n",
      "Balance amount in your Piggy Bank is: Rs. 700.0\n",
      "\n",
      "Please Enter Start or End: Start\n",
      "Do you want to Add, Withdraw or Check: heck\n",
      "Not valid entry\n",
      "\n",
      "Please Enter Start or End: Start\n",
      "Do you want to Add, Withdraw or Check: check\n",
      "Balance amount in your Piggy Bank is: Rs. 700.0\n",
      "\n",
      "Please Enter Start or End: Start\n",
      "Do you want to Add, Withdraw or Check: debit\n",
      "Not valid entry\n",
      "\n",
      "Please Enter Start or End: Start\n",
      "Do you want to Add, Withdraw or Check: Add\n",
      "Enter amount: 100\n",
      "Balance amount in your Piggy Bank is: Rs. 800.0\n",
      "\n",
      "Please Enter Start or End: End\n"
     ]
    }
   ],
   "source": [
    "bank.DoTransaction()"
   ]
  }
 ],
 "metadata": {
  "kernelspec": {
   "display_name": "Python 3",
   "language": "python",
   "name": "python3"
  },
  "language_info": {
   "codemirror_mode": {
    "name": "ipython",
    "version": 3
   },
   "file_extension": ".py",
   "mimetype": "text/x-python",
   "name": "python",
   "nbconvert_exporter": "python",
   "pygments_lexer": "ipython3",
   "version": "3.7.3"
  }
 },
 "nbformat": 4,
 "nbformat_minor": 2
}
