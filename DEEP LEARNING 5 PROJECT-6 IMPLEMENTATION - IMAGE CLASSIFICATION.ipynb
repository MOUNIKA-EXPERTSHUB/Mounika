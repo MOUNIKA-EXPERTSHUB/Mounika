{
 "cells": [
  {
   "cell_type": "code",
   "execution_count": 1,
   "metadata": {},
   "outputs": [],
   "source": [
    "import tensorflow as tf\n",
    "from tensorflow import keras\n",
    "import datetime as dt"
   ]
  },
  {
   "cell_type": "code",
   "execution_count": 2,
   "metadata": {},
   "outputs": [
    {
     "name": "stdout",
     "output_type": "stream",
     "text": [
      "WARNING:tensorflow:From /opt/anaconda3/lib/python3.7/site-packages/tensorflow_core/python/autograph/impl/api.py:332: div (from tensorflow.python.ops.math_ops) is deprecated and will be removed in a future version.\n",
      "Instructions for updating:\n",
      "Deprecated in favor of operator or tf.math.divide.\n"
     ]
    }
   ],
   "source": [
    "(x_train, y_train), (x_test, y_test) = keras.datasets.cifar10.load_data()\n",
    "\n",
    "train_dataset = tf.data.Dataset.from_tensor_slices((x_train, y_train)).batch(32).shuffle(10000)\n",
    "train_dataset = train_dataset.map(lambda x, y: (tf.compat.v1.div(tf.cast(x, tf.float32), 255.0), tf.reshape(tf.one_hot(y, 10), (-1, 10))))\n",
    "train_dataset = train_dataset.map(lambda x, y: (tf.image.random_flip_left_right(x), y))\n",
    "train_dataset = train_dataset.repeat()"
   ]
  },
  {
   "cell_type": "code",
   "execution_count": 3,
   "metadata": {},
   "outputs": [],
   "source": [
    "valid_dataset = tf.data.Dataset.from_tensor_slices((x_test, y_test)).batch(1000).shuffle(10000)\n",
    "valid_dataset = valid_dataset.map(lambda x, y: (tf.compat.v1.div(tf.cast(x, tf.float32),255.0), tf.reshape(tf.one_hot(y, 10), (-1, 10))))\n",
    "valid_dataset = valid_dataset.repeat()"
   ]
  },
  {
   "cell_type": "code",
   "execution_count": 4,
   "metadata": {},
   "outputs": [],
   "source": [
    "class CIFAR10Model(keras.Model):\n",
    "    def __init__(self):\n",
    "        super(CIFAR10Model, self).__init__(name='cifar_cnn')\n",
    "        self.conv1 = keras.layers.Conv2D(64, 5,\n",
    "                                         padding='same',\n",
    "                                         activation=tf.nn.relu,\n",
    "                                         kernel_initializer=tf.compat.v1.initializers.variance_scaling,\n",
    "                                         kernel_regularizer=keras.regularizers.l2(l=0.001))\n",
    "        self.max_pool2d = keras.layers.MaxPooling2D((3, 3), (2, 2), padding='same')\n",
    "        self.max_norm = keras.layers.BatchNormalization()\n",
    "        self.conv2 = keras.layers.Conv2D(64, 5,\n",
    "                                         padding='same',\n",
    "                                         activation=tf.nn.relu,\n",
    "                                         kernel_initializer=tf.compat.v1.initializers.variance_scaling,\n",
    "                                         kernel_regularizer=keras.regularizers.l2(l=0.001))\n",
    "        self.flatten = keras.layers.Flatten()\n",
    "        self.fc1 = keras.layers.Dense(750, activation=tf.nn.relu,\n",
    "                                      kernel_initializer=tf.compat.v1.initializers.variance_scaling,\n",
    "                                      kernel_regularizer=keras.regularizers.l2(l=0.001))\n",
    "        self.dropout = keras.layers.Dropout(0.5)\n",
    "        self.fc2 = keras.layers.Dense(10)\n",
    "        self.softmax = keras.layers.Softmax()\n",
    "\n",
    "    def call(self, x):\n",
    "        x = self.max_pool2d(self.conv1(x))\n",
    "        x = self.max_norm(x)\n",
    "        x = self.max_pool2d(self.conv2(x))\n",
    "        x = self.max_norm(x)\n",
    "        x = self.flatten(x)\n",
    "        x = self.dropout(self.fc1(x))\n",
    "        x = self.fc2(x)\n",
    "        return self.softmax(x)"
   ]
  },
  {
   "cell_type": "code",
   "execution_count": null,
   "metadata": {},
   "outputs": [
    {
     "name": "stdout",
     "output_type": "stream",
     "text": [
      "Epoch 1/100\n"
     ]
    }
   ],
   "source": [
    "model = CIFAR10Model()\n",
    "model.compile(optimizer=tf.compat.v1.train.AdamOptimizer(),\n",
    "              loss='categorical_crossentropy',\n",
    "              metrics=['accuracy'])\n",
    "callbacks = [\n",
    "  # Write TensorBoard logs to `./logs` directory\n",
    "  keras.callbacks.TensorBoard(log_dir='./log/{}'.format(dt.datetime.now().strftime(\"%Y-%m-%d-%H-%M-%S\")))\n",
    "]\n",
    "model.fit(train_dataset, epochs=100, steps_per_epoch=1500,\n",
    "          validation_data=valid_dataset,\n",
    "          validation_steps=3, callbacks=callbacks)"
   ]
  },
  {
   "cell_type": "code",
   "execution_count": null,
   "metadata": {},
   "outputs": [],
   "source": []
  }
 ],
 "metadata": {
  "kernelspec": {
   "display_name": "Python 3",
   "language": "python",
   "name": "python3"
  },
  "language_info": {
   "codemirror_mode": {
    "name": "ipython",
    "version": 3
   },
   "file_extension": ".py",
   "mimetype": "text/x-python",
   "name": "python",
   "nbconvert_exporter": "python",
   "pygments_lexer": "ipython3",
   "version": "3.7.6"
  }
 },
 "nbformat": 4,
 "nbformat_minor": 2
}
