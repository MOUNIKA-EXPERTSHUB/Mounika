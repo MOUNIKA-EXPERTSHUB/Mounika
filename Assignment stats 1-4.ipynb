{
 "cells": [
  {
   "cell_type": "markdown",
   "metadata": {},
   "source": [
    "# Assignment 1"
   ]
  },
  {
   "cell_type": "code",
   "execution_count": 1,
   "metadata": {},
   "outputs": [],
   "source": [
    "import statistics as st\n",
    "from functools import reduce"
   ]
  },
  {
   "cell_type": "markdown",
   "metadata": {},
   "source": [
    "\n",
    "You survey households in your area to find the average rent they are paying. Find the\n",
    "standard deviation from the following data: $1550, $1700, $900, $850, $1000, $950"
   ]
  },
  {
   "cell_type": "code",
   "execution_count": 2,
   "metadata": {},
   "outputs": [
    {
     "name": "stdout",
     "output_type": "stream",
     "text": [
      "Mean is :  1158.3333333333333\n",
      "Variance is :  112847.22222222223\n",
      "Standard Deviation is :  335.92740617910624\n"
     ]
    }
   ],
   "source": [
    "# Create the dataset for the same\n",
    "rent = [1550, 1700, 900,850, 1000,950]\n",
    "# Calculate the mean of the list\n",
    "mean = sum(rent)/len(rent)\n",
    "print (\"Mean is : \", mean)\n",
    "# Calculate the variance\n",
    "diff_mean = list(map(lambda x : (x - mean)**2 , rent))\n",
    "var = sum(diff_mean)/len(rent)\n",
    "print (\"Variance is : \", var)\n",
    "# Calculate the standard deviation\n",
    "sd = var ** 0.5\n",
    "print (\"Standard Deviation is : \", sd)"
   ]
  },
  {
   "cell_type": "markdown",
   "metadata": {},
   "source": [
    "Find the variance for the following set of data representing trees in California (heights in feet):\n",
    "3, 21, 98, 203, 17, 9"
   ]
  },
  {
   "cell_type": "code",
   "execution_count": 3,
   "metadata": {},
   "outputs": [
    {
     "name": "stdout",
     "output_type": "stream",
     "text": [
      "Variance is :  5183.25\n"
     ]
    }
   ],
   "source": [
    "trees = [3, 21, 98, 203, 17, 9]\n",
    "# Calculate mean \n",
    "mean = sum(trees)/len(trees)\n",
    "# Calculate the variance\n",
    "diff_mean = list(map(lambda x : (x - mean)**2 , trees))\n",
    "var = sum(diff_mean)/len(trees)\n",
    "print (\"Variance is : \", var)"
   ]
  },
  {
   "cell_type": "markdown",
   "metadata": {},
   "source": [
    "\n",
    "In a class on 100 students, 80 students passed in all subjects, 10 failed in one subject, 7 failed in two subjects and 3 failed in three subjects. Find the probability distribution of the variable for number of subjects a student from the given class has failed in."
   ]
  },
  {
   "cell_type": "code",
   "execution_count": 4,
   "metadata": {},
   "outputs": [
    {
     "name": "stdout",
     "output_type": "stream",
     "text": [
      "Total number of students in the class : 100\n",
      "Probability of failing in 0 subjects : 0.8\n",
      "Probability of failing in 1 subjects : 0.1\n",
      "Probability of failing in 2 subjects : 0.07\n",
      "Probability of failing in 3 subjects : 0.03\n"
     ]
    }
   ],
   "source": [
    "print (\"Total number of students in the class : 100\")\n",
    "print (\"Probability of failing in {} subjects : {}\".format(0, 80/100))\n",
    "print (\"Probability of failing in {} subjects : {}\".format(1, 10/100))\n",
    "print (\"Probability of failing in {} subjects : {}\".format(2, 7/100))\n",
    "print (\"Probability of failing in {} subjects : {}\".format(3, 3/100))"
   ]
  },
  {
   "cell_type": "markdown",
   "metadata": {},
   "source": [
    "# Assignment 2"
   ]
  },
  {
   "cell_type": "code",
   "execution_count": 5,
   "metadata": {},
   "outputs": [],
   "source": [
    "import statistics as st\n",
    "from functools import reduce\n",
    "import math"
   ]
  },
  {
   "cell_type": "markdown",
   "metadata": {},
   "source": [
    " test is conducted which is consisting of 20 MCQs (multiple choices questions) with every MCQ having its four options out of which only one is correct. Determine the probability that a person undertaking that test has answered exactly 5 questions wrong."
   ]
  },
  {
   "cell_type": "code",
   "execution_count": 6,
   "metadata": {},
   "outputs": [
    {
     "name": "stdout",
     "output_type": "stream",
     "text": [
      "PRoabailty to get 5 wrong is :  3.4264958230778575e-06\n"
     ]
    }
   ],
   "source": [
    "n = 20        # number of samples\n",
    "s = 5\n",
    "k = 15\n",
    "\n",
    "# Probability of success \n",
    "p = 1/4\n",
    "# Proability of Failure\n",
    "q = 1 - p\n",
    "\n",
    "# Percentage computation\n",
    "# 20!/15!(5!) * ((1/4) ** 15) * ((3/4) ** 5)\n",
    "\n",
    "array = [i for i in range(1,21)]\n",
    "n_fact = reduce(lambda x,y : x * y, array)\n",
    "pass_fact = reduce(lambda x,y : x * y, array[0:15])\n",
    "fail_fact = reduce(lambda x,y : x * y, array[0:5])\n",
    "\n",
    "# Probaility of 5 failures\n",
    "prob= (n_fact/(pass_fact*fail_fact)) * (p ** k ) * (q ** s)\n",
    "print (\"PRoabailty to get 5 wrong is : \", prob)"
   ]
  },
  {
   "cell_type": "markdown",
   "metadata": {},
   "source": [
    "A die marked A to E is rolled 50 times. Find the probability of getting a “D” exactly 5 times."
   ]
  },
  {
   "cell_type": "code",
   "execution_count": 7,
   "metadata": {},
   "outputs": [
    {
     "name": "stdout",
     "output_type": "stream",
     "text": [
      "PRoabailty to get D 5 times is :  0.029531204310524296\n"
     ]
    }
   ],
   "source": [
    "n = 50\n",
    "#success count\n",
    "k = 5\n",
    "# Failure\n",
    "s = 50 -k    # 45\n",
    "\n",
    "# Probabilty of success \n",
    "p = 1/5    # As it is A to E, there are only 5 possibilties\n",
    "# Probiblity of failure\n",
    "q = 1 - p\n",
    "\n",
    "# Compute the probavilty\n",
    "prob = (math.factorial(n) / (math.factorial(k) * math.factorial(s))) * (p ** k) * (q ** s)\n",
    "print (\"PRoabailty to get D 5 times is : \", prob)"
   ]
  },
  {
   "cell_type": "markdown",
   "metadata": {},
   "source": [
    "Two balls are drawn at random in succession without replacement from an urn containing 4 red balls and 6 black balls. Find the probabilities of all the possible outcomes."
   ]
  },
  {
   "cell_type": "code",
   "execution_count": 11,
   "metadata": {},
   "outputs": [
    {
     "name": "stdout",
     "output_type": "stream",
     "text": [
      "Probability of getting RR is  0.13333333333333336\n",
      "Probability of getting BB is  0.3333333333333333\n",
      "Probability of getting RB is  0.2666666666666667\n",
      "Probability of getting BR is  0.26666666666666666\n"
     ]
    }
   ],
   "source": [
    "\n",
    "print(\"Probability of getting RR is \", (4/10 * 3/9))\n",
    "print(\"Probability of getting BB is \", (6/10 * 5/9))\n",
    "print(\"Probability of getting RB is \", (4/10 * 6/9))\n",
    "print(\"Probability of getting BR is \", (6/10 * 4/9))"
   ]
  },
  {
   "cell_type": "markdown",
   "metadata": {},
   "source": [
    "# Statistics Assignment 3\n",
    "Problem Statement 1: Blood glucose levels for obese patients have a mean of 100 with a standard deviation of 15. A researcher thinks that a diet high in raw cornstarch will have a positive effect on blood glucose levels. A sample of 36 patients who have tried the raw cornstarch diet have a mean glucose level of 108. Test the hypothesis that the raw cornstarch had an effect or not."
   ]
  },
  {
   "cell_type": "code",
   "execution_count": 8,
   "metadata": {},
   "outputs": [
    {
     "name": "stdout",
     "output_type": "stream",
     "text": [
      "Confidenece interval Z-Score lies in  1.6 for 0.95 score\n",
      "Z-score value for 3.2 is: 0.9993 And CI value is 0.0007000000000000339 which is < 0.05 \n",
      " Conclusion: raw cornstarch has an effect\n"
     ]
    }
   ],
   "source": [
    "#Solution:\n",
    "import numpy as np\n",
    "Mean=100\n",
    "SD=15\n",
    "x=108\n",
    "N=36\n",
    "Alpha=0.05 # preferred value of alpaha in the medical industry\n",
    "CI = 1-Alpha\n",
    "print ('Confidenece interval Z-Score lies in ',1.6,'for 0.95 score')\n",
    "Mean_diff = x-Mean\n",
    "a=SD/np.sqrt(N)\n",
    "Z_score=Mean_diff/a\n",
    "print ('Z-score value for',Z_score,'is:',0.9993,'And CI value is',1-0.9993,'which is < 0.05','\\n',\n",
    "'Conclusion: raw cornstarch has an effect')"
   ]
  },
  {
   "cell_type": "markdown",
   "metadata": {},
   "source": [
    "Problem Statement 2: In one state, 52% of the voters are Republicans, and 48% are Democrats. In a second state, 47% of the voters are Republicans, and 53% are Democrats. Suppose a simple random sample of 100 voters are surveyed from each state. What is the probability that the survey will show a greater percentage of Republican voters in the second state than in the first state?"
   ]
  },
  {
   "cell_type": "code",
   "execution_count": 9,
   "metadata": {},
   "outputs": [
    {
     "name": "stdout",
     "output_type": "stream",
     "text": [
      "Z-score value of -0.7080278164104207 is 0.24196 \n",
      " Probability that survey shows greater % in second state than first state is 24.196 %\n"
     ]
    }
   ],
   "source": [
    "#Solution:\n",
    "# Sample size is large enough as all data is more than 30 in size i.e., 52,48,47 and 53.\n",
    "\n",
    "import numpy as np\n",
    "Mean_diff = 52-47\n",
    "Mean_diff=Mean_diff/100\n",
    "SD_diff = np.sqrt((.52)*(0.48)/100+(.47)*(0.53)/100)\n",
    "Z_score = (0-Mean_diff)/SD_diff\n",
    "print ('Z-score value of',Z_score,'is 0.24196','\\n',\\\n",
    "       'Probability that survey shows greater % in second state than first state is',0.24196*100,'%')"
   ]
  },
  {
   "cell_type": "markdown",
   "metadata": {},
   "source": [
    "Problem Statement 3: You take the SAT and score 1100. The mean score for the SAT is 1026 and the standard deviation is 209. How well did you score on the test compared to the average test taker? Note: Solution submitted via github must contain all the detailed steps."
   ]
  },
  {
   "cell_type": "code",
   "execution_count": 10,
   "metadata": {},
   "outputs": [
    {
     "name": "stdout",
     "output_type": "stream",
     "text": [
      "Z score for the value 0.35406698564593303 is 0.63683\n"
     ]
    }
   ],
   "source": [
    "#Solution:\n",
    "x=1100\n",
    "mean=1026\n",
    "sd=209\n",
    "z_score=(x-mean)/sd\n",
    "print ('Z score for the value',z_score,'is 0.63683')"
   ]
  },
  {
   "cell_type": "markdown",
   "metadata": {},
   "source": [
    "# Problem Statement 1:\n",
    "Is gender independent of education level? A random sample of 395 people were surveyed and each person was asked to report the highest education level they obtained. The data that resulted from the survey is summarized in the following table: High School Bachelors Masters Ph.d. Total Female 60 54 46 41 201 Male 40 44 53 57 194 Total 100 98 99 98 395 Question: Are gender and education level dependent at 5% level of significance? In other words, given the data collected above, is there a relationship between the gender of an individual and the level of education that they have obtained?"
   ]
  },
  {
   "cell_type": "code",
   "execution_count": 12,
   "metadata": {},
   "outputs": [],
   "source": [
    "import numpy as np\n",
    "import scipy.stats as stats\n",
    "import matplotlib.pyplot as plt\n",
    "import math as math"
   ]
  },
  {
   "cell_type": "code",
   "execution_count": 13,
   "metadata": {},
   "outputs": [],
   "source": [
    "Female = [60, 54, 46, 41]\n",
    "Male = [40, 44, 53, 57]\n",
    "Total = [100, 98, 99, 98]"
   ]
  },
  {
   "cell_type": "code",
   "execution_count": 14,
   "metadata": {},
   "outputs": [
    {
     "data": {
      "text/plain": [
       "array([0.6       , 0.55102041, 0.46464646, 0.41836735])"
      ]
     },
     "execution_count": 14,
     "metadata": {},
     "output_type": "execute_result"
    }
   ],
   "source": [
    "np.divide(Female,Total)"
   ]
  },
  {
   "cell_type": "code",
   "execution_count": 15,
   "metadata": {},
   "outputs": [],
   "source": [
    "_, pvalue = stats.ttest_rel(np.divide(Female,Total), np.divide(Male,Total))"
   ]
  },
  {
   "cell_type": "code",
   "execution_count": 16,
   "metadata": {},
   "outputs": [
    {
     "name": "stdout",
     "output_type": "stream",
     "text": [
      "There is a relation between gender and qualification, with 95% confidence interval with     pvalue = 0.8490908322951305\n"
     ]
    }
   ],
   "source": [
    "if(pvalue < 0.05):\n",
    "    print('There is no relation between gender and qualification, with 95% confidence interval with \\\n",
    "    pvalue = {}'.format(pvalue))\n",
    "else:\n",
    "    print('There is a relation between gender and qualification, with 95% confidence interval with \\\n",
    "    pvalue = {}'.format(pvalue))"
   ]
  },
  {
   "cell_type": "markdown",
   "metadata": {},
   "source": [
    "Problem Statement 2: Using the following data, perform a oneway analysis of variance using α=.05. Write up the results in APA format.\n",
    "\n",
    "[Group1: 51, 45, 33, 45, 67] [Group2: 23, 43, 23, 43, 45] [Group3: 56, 76, 74, 87, 56]"
   ]
  },
  {
   "cell_type": "code",
   "execution_count": 17,
   "metadata": {},
   "outputs": [],
   "source": [
    "Group1 = [51, 45, 33, 45, 67] \n",
    "Group2 = [23, 43, 23, 43, 45] \n",
    "Group3 = [56, 76, 74, 87, 56]"
   ]
  },
  {
   "cell_type": "code",
   "execution_count": 18,
   "metadata": {},
   "outputs": [
    {
     "data": {
      "text/plain": [
       "11.070682002478437"
      ]
     },
     "execution_count": 18,
     "metadata": {},
     "output_type": "execute_result"
    }
   ],
   "source": [
    "np.array(Group1).std()"
   ]
  },
  {
   "cell_type": "code",
   "execution_count": 19,
   "metadata": {},
   "outputs": [
    {
     "data": {
      "text/plain": [
       "10.150862032359617"
      ]
     },
     "execution_count": 19,
     "metadata": {},
     "output_type": "execute_result"
    }
   ],
   "source": [
    "np.array(Group2).std()"
   ]
  },
  {
   "cell_type": "code",
   "execution_count": 20,
   "metadata": {},
   "outputs": [
    {
     "data": {
      "text/plain": [
       "12.106196760337244"
      ]
     },
     "execution_count": 20,
     "metadata": {},
     "output_type": "execute_result"
    }
   ],
   "source": [
    "np.array(Group3).std()"
   ]
  },
  {
   "cell_type": "code",
   "execution_count": 21,
   "metadata": {},
   "outputs": [],
   "source": [
    "_, pvalue = stats.f_oneway(Group1, Group2, Group3)"
   ]
  },
  {
   "cell_type": "code",
   "execution_count": 22,
   "metadata": {},
   "outputs": [
    {
     "name": "stdout",
     "output_type": "stream",
     "text": [
      "With 95% confidene interval, variances of all groups are same with pvalue = 0.0030597541434430556\n"
     ]
    }
   ],
   "source": [
    "if(pvalue < 0.025):\n",
    "    print('With 95% confidene interval, variances of all groups are same with pvalue = {}'.format(pvalue))\n",
    "else:\n",
    "    print('With 95% confidene interval, variances of all groups are different with pvalue = {}'.format(pvalue))"
   ]
  },
  {
   "cell_type": "markdown",
   "metadata": {},
   "source": [
    "Problem Statement 3:\n",
    "Calculate F Test for given 10, 20, 30, 40, 50 and 5,10,15,20, 25.\n",
    "For 10, 20, 30, 40, 50:"
   ]
  },
  {
   "cell_type": "code",
   "execution_count": 23,
   "metadata": {},
   "outputs": [
    {
     "name": "stdout",
     "output_type": "stream",
     "text": [
      "F test result is:\n"
     ]
    },
    {
     "data": {
      "text/plain": [
       "F_onewayResult(statistic=3.6, pvalue=0.0943497728424377)"
      ]
     },
     "execution_count": 23,
     "metadata": {},
     "output_type": "execute_result"
    }
   ],
   "source": [
    "#Solution:\n",
    "# F-test = Variance of (10,20,30,40,50) / Variance of (5,10,15,20,25)\n",
    "# F-test is determined using the Python Scipy library as shown below using the 1-way ANOVA function\n",
    "\n",
    "import numpy as np\n",
    "import scipy.stats as st\n",
    "a=[10,20,30,40,50]\n",
    "b=[5,10,15,20,25]\n",
    "print ('F test result is:')\n",
    "st.f_oneway(a,b)"
   ]
  }
 ],
 "metadata": {
  "kernelspec": {
   "display_name": "Python 3",
   "language": "python",
   "name": "python3"
  },
  "language_info": {
   "codemirror_mode": {
    "name": "ipython",
    "version": 3
   },
   "file_extension": ".py",
   "mimetype": "text/x-python",
   "name": "python",
   "nbconvert_exporter": "python",
   "pygments_lexer": "ipython3",
   "version": "3.7.3"
  }
 },
 "nbformat": 4,
 "nbformat_minor": 2
}
