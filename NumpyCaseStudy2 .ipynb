{
 "cells": [
  {
   "cell_type": "markdown",
   "metadata": {},
   "source": [
    "# This case study consists of 1000 marks and the solution file is expected to be submitted in the upcoming session for evaluation."
   ]
  },
  {
   "cell_type": "code",
   "execution_count": 1,
   "metadata": {},
   "outputs": [],
   "source": [
    "import numpy as np"
   ]
  },
  {
   "cell_type": "markdown",
   "metadata": {},
   "source": [
    "### 1.Create two matrices of 3*3 and perform the arithmatic operations metioned in below \"print\" statements"
   ]
  },
  {
   "cell_type": "code",
   "execution_count": 27,
   "metadata": {},
   "outputs": [
    {
     "name": "stdout",
     "output_type": "stream",
     "text": [
      "\n",
      "1st Matrix of random single-digit numbers\n",
      "----------------------------------------\n",
      " [[ 1  2 10]\n",
      " [ 3  4 21]\n",
      " [ 4  5 99]]\n",
      "\n",
      "2nd Matrix of random single-digit numbers\n",
      "----------------------------------------\n",
      " [[ 1  2 10]\n",
      " [ 3  4 21]\n",
      " [ 4  5 99]]\n",
      "\n",
      "Addition\n",
      "------------------\n",
      " [[  2   4  20]\n",
      " [  6   8  42]\n",
      " [  8  10 198]]\n",
      "\n",
      "Multiplication\n",
      "------------------\n",
      " [[   1    4  100]\n",
      " [   9   16  441]\n",
      " [  16   25 9801]]\n",
      "\n",
      "Division\n",
      "------------------\n",
      " [[1. 1. 1.]\n",
      " [1. 1. 1.]\n",
      " [1. 1. 1.]]\n",
      "\n",
      "Linear combination: 3*A - 2*B\n",
      "-----------------------------\n",
      " [[ 1  2 10]\n",
      " [ 3  4 21]\n",
      " [ 4  5 99]] [[ 1  2 10]\n",
      " [ 3  4 21]\n",
      " [ 4  5 99]]\n",
      "\n",
      "Addition of a scalar (100)\n",
      "-------------------------\n",
      " [[101 102 110]\n",
      " [103 104 121]\n",
      " [104 105 199]] [[101 102 110]\n",
      " [103 104 121]\n",
      " [104 105 199]]\n",
      "\n",
      "Exponentiation, matrix cubed here\n",
      "----------------------------------------\n",
      " [[     1      8   1000]\n",
      " [    27     64   9261]\n",
      " [    64    125 970299]] [[     1      8   1000]\n",
      " [    27     64   9261]\n",
      " [    64    125 970299]]\n",
      "\n",
      "Exponentiation, mat1 sq-root using pow function\n",
      "-------------------------------------------\n",
      " [[   1    4  100]\n",
      " [   9   16  441]\n",
      " [  16   25 9801]]\n"
     ]
    }
   ],
   "source": [
    "mat1 = np.array([[1,2,10],[3,4,21], [4,5,99]])\n",
    "mat2 = np.array([[1,2,10],[3,4,21], [4,5,99]])\n",
    "print(\"\\n1st Matrix of random single-digit numbers\\n----------------------------------------\\n\",mat1)\n",
    "print(\"\\n2nd Matrix of random single-digit numbers\\n----------------------------------------\\n\",mat2)\n",
    "\n",
    "print(\"\\nAddition\\n------------------\\n\", mat1+mat2)\n",
    "\n",
    "print(\"\\nMultiplication\\n------------------\\n\", mat1*mat2)\n",
    "\n",
    "print(\"\\nDivision\\n------------------\\n\", mat1/mat2)\n",
    "print(\"\\nLinear combination: 3*A - 2*B\\n-----------------------------\\n\", mat1,mat2)\n",
    "\n",
    "print(\"\\nAddition of a scalar (100)\\n-------------------------\\n\", mat1+100,mat2+100)\n",
    "\n",
    "\n",
    "print(\"\\nExponentiation, matrix cubed here\\n----------------------------------------\\n\", (mat1)**3,(mat2)**3)\n",
    "print(\"\\nExponentiation, mat1 sq-root using pow function\\n-------------------------------------------\\n\",np.square(mat1))"
   ]
  },
  {
   "cell_type": "markdown",
   "metadata": {},
   "source": [
    "Some operations, such as += and *=, act in place to modify an existing array rather than create a new one."
   ]
  },
  {
   "cell_type": "markdown",
   "metadata": {},
   "source": [
    "NumPy provides familiar mathematical functions such as sin, cos, and exp. In NumPy, these are called “universal functions”(ufunc). Within NumPy, these functions operate elementwise on an array, producing an array as output."
   ]
  },
  {
   "cell_type": "markdown",
   "metadata": {},
   "source": [
    "### 2.Create two 3 * 3 matrices and perform the following operations as describe in print statement."
   ]
  },
  {
   "cell_type": "code",
   "execution_count": 55,
   "metadata": {},
   "outputs": [
    {
     "name": "stdout",
     "output_type": "stream",
     "text": [
      "\n",
      "1st Matrix of random single-digit numbers\n",
      " -------------------------------------------------- \n",
      " [[[0.77936267 0.52314891 0.71715175 ... 0.65619983 0.23264306 0.47272579]\n",
      "  [0.43647459 0.06062313 0.83744773 ... 0.1302815  0.72313514 0.84511292]\n",
      "  [0.70055297 0.74891642 0.60214543 ... 0.02649293 0.21853959 0.52500514]\n",
      "  ...\n",
      "  [0.56431036 0.03669153 0.14365805 ... 0.29545512 0.26211384 0.69737073]\n",
      "  [0.78429357 0.41083593 0.07522471 ... 0.10975911 0.18227008 0.11844106]\n",
      "  [0.03720153 0.29631981 0.49903123 ... 0.34514371 0.9486311  0.54240275]]]\n",
      "\n",
      "2nd Matrix of random single-digit numbers\n",
      " -------------------------------------------------- \n",
      " [[[0.60995532 0.36477225 0.07813139 ... 0.02183887 0.34957236 0.29002701]\n",
      "  [0.8194461  0.06680149 0.71975872 ... 0.18888098 0.73859378 0.86343618]\n",
      "  [0.18594419 0.98978904 0.91999048 ... 0.44830611 0.4672023  0.968145  ]\n",
      "  ...\n",
      "  [0.49195225 0.0839468  0.56521543 ... 0.20176163 0.88494176 0.36190986]\n",
      "  [0.79100052 0.40764605 0.06344692 ... 0.23939881 0.01904985 0.33371487]\n",
      "  [0.14704738 0.97301021 0.28926284 ... 0.56533895 0.73744795 0.67058887]]]\n",
      "\n",
      "Sum of all numbers in 1st matrix\n",
      " -------------------------------------------------- \n",
      " 997.603516046526\n",
      "\n",
      "Sum of all numbers in columns of 1st matrix\n",
      " -------------------------------------------------- \n",
      " [[0.77936267 0.52314891 0.71715175 ... 0.65619983 0.23264306 0.47272579]\n",
      " [0.43647459 0.06062313 0.83744773 ... 0.1302815  0.72313514 0.84511292]\n",
      " [0.70055297 0.74891642 0.60214543 ... 0.02649293 0.21853959 0.52500514]\n",
      " ...\n",
      " [0.56431036 0.03669153 0.14365805 ... 0.29545512 0.26211384 0.69737073]\n",
      " [0.78429357 0.41083593 0.07522471 ... 0.10975911 0.18227008 0.11844106]\n",
      " [0.03720153 0.29631981 0.49903123 ... 0.34514371 0.9486311  0.54240275]]\n",
      "\n",
      "Sum of all numbers in rows of 1st matrix\n",
      " -------------------------------------------------- \n",
      " [[48.12573344 46.63752885 47.62056277 52.53882557 50.07467076 52.42038602\n",
      "  47.04410109 53.96779657 48.91228609 50.41840185 51.81338442 47.79405326\n",
      "  47.42728762 51.33114748 48.30009506 50.84417241 49.84012928 50.19898666\n",
      "  54.0835908  48.21037606]]\n",
      "\n",
      "Product of all numbers in rows of 1st matrix\n",
      " -------------------------------------------------- \n",
      " [[4.69303103e-46 1.06684223e-50 1.29813154e-50 4.56939023e-42\n",
      "  1.90217272e-44 1.87567006e-38 6.19609993e-46 1.14407808e-37\n",
      "  3.90358591e-44 6.93584494e-43 2.01803564e-43 1.94910257e-43\n",
      "  2.85986033e-45 2.09453059e-43 8.91787854e-48 9.56649184e-44\n",
      "  1.15733720e-40 5.93814196e-43 3.31851255e-35 3.18288671e-44]]\n",
      "\n",
      "Product of all numbers in columns of 2nd matrix\n",
      " -------------------------------------------------- \n",
      " [[0.77936267 0.52314891 0.71715175 ... 0.65619983 0.23264306 0.47272579]\n",
      " [0.43647459 0.06062313 0.83744773 ... 0.1302815  0.72313514 0.84511292]\n",
      " [0.70055297 0.74891642 0.60214543 ... 0.02649293 0.21853959 0.52500514]\n",
      " ...\n",
      " [0.56431036 0.03669153 0.14365805 ... 0.29545512 0.26211384 0.69737073]\n",
      " [0.78429357 0.41083593 0.07522471 ... 0.10975911 0.18227008 0.11844106]\n",
      " [0.03720153 0.29631981 0.49903123 ... 0.34514371 0.9486311  0.54240275]]\n",
      "\n",
      "Mean of all numbers in 1st matrix\n",
      " -------------------------------------------------- \n",
      " 0.498801758023263\n",
      "\n",
      "Standard deviation of all numbers in 1st matrix\n",
      " -------------------------------------------------- \n",
      " 0.2863654346413091\n",
      "\n",
      "Modified matrix of random numbers from 1 to 99\n",
      " -------------------------------------------------- \n",
      " 61\n",
      "\n",
      "Standard deviation of all numbers in the modified matrix, a larger number\n",
      " -------------------------------------------------------------------------------- \n",
      " 0.0\n",
      "\n",
      "Variance of all numbers in the modified matrix, a larger number\n",
      " -------------------------------------------------------------------------------- \n",
      " 0.0\n",
      "\n",
      "Median of all numbers in the modified matrix\n",
      " ------------------------------------------------------------ \n",
      " 61.0\n"
     ]
    }
   ],
   "source": [
    "from numpy.random import randint as ri\n",
    "mat1 = np.random.rand(1,100,20)\n",
    "mat2 = np.random.rand(1,100,30)\n",
    "\n",
    "print(\"\\n1st Matrix of random single-digit numbers\\n\",\"-\"*50,\"\\n\",mat1)\n",
    "print(\"\\n2nd Matrix of random single-digit numbers\\n\",\"-\"*50,\"\\n\",mat2)\n",
    "\n",
    "print(\"\\nSum of all numbers in 1st matrix\\n\",\"-\"*50,\"\\n\",np.sum(mat1))\n",
    "print(\"\\nSum of all numbers in columns of 1st matrix\\n\",\"-\"*50,\"\\n\",np.sum(mat1, axis=0))\n",
    "\n",
    "print(\"\\nSum of all numbers in rows of 1st matrix\\n\",\"-\"*50,\"\\n\",np.sum(mat1, axis=1))\n",
    "print(\"\\nProduct of all numbers in rows of 1st matrix\\n\",\"-\"*50,\"\\n\",np.prod(mat1, axis=1))\n",
    "\n",
    "\n",
    "print(\"\\nProduct of all numbers in columns of 2nd matrix\\n\",\"-\"*50,\"\\n\",np.prod(mat1, axis=0))\n",
    "print(\"\\nMean of all numbers in 1st matrix\\n\",\"-\"*50,\"\\n\",np.mean(mat1))\n",
    "\n",
    "\n",
    "print(\"\\nStandard deviation of all numbers in 1st matrix\\n\",\"-\"*50,\"\\n\",np.std(mat1))\n",
    "\n",
    "mat1 = np.random.randint(1,100)\n",
    "print(\"\\nModified matrix of random numbers from 1 to 99\\n\",\"-\"*50,\"\\n\",mat1)\n",
    "\n",
    "\n",
    "print(\"\\nStandard deviation of all numbers in the modified matrix, a larger number\\n\",\"-\"*80,\"\\n\",np.std(mat1))\n",
    "\n",
    "\n",
    "print(\"\\nVariance of all numbers in the modified matrix, a larger number\\n\",\"-\"*80,\"\\n\",np.var(mat1))\n",
    "\n",
    "\n",
    "print(\"\\nMedian of all numbers in the modified matrix\\n\",\"-\"*60,\"\\n\",np.median(mat1))\n"
   ]
  },
  {
   "cell_type": "code",
   "execution_count": 56,
   "metadata": {},
   "outputs": [
    {
     "name": "stdout",
     "output_type": "stream",
     "text": [
      "\n",
      "1st Matrix of random single-digit numbers\n",
      " -------------------------------------------------- \n",
      " [[0.99313093 0.65849878 0.59532065]\n",
      " [0.33999413 0.38166617 0.78051174]\n",
      " [0.45316134 0.7139557  0.5613737 ]]\n",
      "\n",
      "2nd Matrix of random single-digit numbers\n",
      " -------------------------------------------------- \n",
      " [[0.46262927 0.59969724 0.86737996]\n",
      " [0.45266435 0.78446655 0.28854591]\n",
      " [0.04774737 0.7443909  0.00908858]]\n"
     ]
    }
   ],
   "source": [
    "from numpy.random import randint as ri\n",
    "mat1 = np.random.rand(3,3)\n",
    "mat2 = np.random.rand(3,3)\n",
    "print(\"\\n1st Matrix of random single-digit numbers\\n\",\"-\"*50,\"\\n\",mat1)\n",
    "print(\"\\n2nd Matrix of random single-digit numbers\\n\",\"-\"*50,\"\\n\",mat2)"
   ]
  },
  {
   "cell_type": "markdown",
   "metadata": {},
   "source": [
    "###  3.Create a 3 \\* 3 Matrix and Modify its shape to 9\\*1 matrix."
   ]
  },
  {
   "cell_type": "code",
   "execution_count": 57,
   "metadata": {},
   "outputs": [
    {
     "data": {
      "text/plain": [
       "array([[0.99313093],\n",
       "       [0.65849878],\n",
       "       [0.59532065],\n",
       "       [0.33999413],\n",
       "       [0.38166617],\n",
       "       [0.78051174],\n",
       "       [0.45316134],\n",
       "       [0.7139557 ],\n",
       "       [0.5613737 ]])"
      ]
     },
     "execution_count": 57,
     "metadata": {},
     "output_type": "execute_result"
    }
   ],
   "source": [
    "##Solution\n",
    "mat1.reshape(9,1)"
   ]
  },
  {
   "cell_type": "markdown",
   "metadata": {},
   "source": [
    "### 4.Sort"
   ]
  },
  {
   "cell_type": "code",
   "execution_count": 60,
   "metadata": {},
   "outputs": [
    {
     "name": "stdout",
     "output_type": "stream",
     "text": [
      "\n",
      "Vector of 10 random integers from 1 to 100\n",
      " -------------------------------------------------- \n",
      " [43 36 15 18 79 56 31 45 82 71]\n",
      "\n",
      "Here is the sorted vector\n",
      " -------------------------------------------------- \n",
      " [15 18 31 36 43 45 56 71 79 82]\n"
     ]
    }
   ],
   "source": [
    "A = ri(1,100,10) # Vector of random interegrs\n",
    "print(\"\\nVector of 10 random integers from 1 to 100\\n\",'-'*50,\"\\n\",A)\n",
    "print(\"\\nHere is the sorted vector\\n\",'-'*50,\"\\n\",np.sort(A, kind='mergesort'))\n"
   ]
  },
  {
   "cell_type": "code",
   "execution_count": 61,
   "metadata": {},
   "outputs": [
    {
     "name": "stdout",
     "output_type": "stream",
     "text": [
      "\n",
      "5x5 Matrix of random integers\n",
      " -------------------------------------------------- \n",
      " [[88 60 89 60 22]\n",
      " [69 63 91 81 50]\n",
      " [97 63 19 94 26]\n",
      " [54 20 22 72 21]\n",
      " [85 18 90 19 80]]\n",
      "\n",
      "Here is the sorted matrix along each row\n",
      " -------------------------------------------------- \n",
      " [[22 60 60 88 89]\n",
      " [50 63 69 81 91]\n",
      " [19 26 63 94 97]\n",
      " [20 21 22 54 72]\n",
      " [18 19 80 85 90]]\n",
      "\n",
      "Here is the sorted matrix along each column\n",
      " -------------------------------------------------- \n",
      " [[54 18 19 19 21]\n",
      " [69 20 22 60 22]\n",
      " [85 60 89 72 26]\n",
      " [88 63 90 81 50]\n",
      " [97 63 91 94 80]]\n"
     ]
    }
   ],
   "source": [
    "M = ri(1,100,25).reshape(5,5) # Matrix of random interegrs\n",
    "print(\"\\n5x5 Matrix of random integers\\n\",'-'*50,\"\\n\",M)\n",
    "print(\"\\nHere is the sorted matrix along each row\\n\",'-'*50,\"\\n\",np.sort(M, kind='mergesort')) # Default axis =1\n",
    "print(\"\\nHere is the sorted matrix along each column\\n\",'-'*50,\"\\n\",np.sort(M, axis=0, kind='mergesort'))"
   ]
  },
  {
   "cell_type": "markdown",
   "metadata": {},
   "source": [
    "### 5.Create a,b,c  10 element vectors of random integers and perform the respective operation mentioned in print statement"
   ]
  },
  {
   "cell_type": "code",
   "execution_count": 67,
   "metadata": {},
   "outputs": [
    {
     "name": "stdout",
     "output_type": "stream",
     "text": [
      "a: [77 69 68 76 56 99 23 73 22 89 69 33 27 32 98 34 13 23  7 50 16  9 28 90\n",
      " 97 91 37  3  3 28]\n",
      "b: [[[77 69 68 76 56]\n",
      "  [99 23 73 22 89]\n",
      "  [69 33 27 32 98]]\n",
      "\n",
      " [[34 13 23  7 50]\n",
      "  [16  9 28 90 97]\n",
      "  [91 37  3  3 28]]]\n",
      "c: [[77 69 68 76 56]\n",
      " [99 23 73 22 89]\n",
      " [69 33 27 32 98]\n",
      " [34 13 23  7 50]\n",
      " [16  9 28 90 97]\n",
      " [91 37  3  3 28]]\n",
      "Max of a: 99\n",
      "Max of b: 99\n",
      "Max of a location: 5\n",
      "Max of b location: 5\n",
      "Max of c location: 5\n",
      "Min of a: 3\n",
      "Min of b: 3\n",
      "Min of a location: 27\n",
      "Min of b location: 27\n",
      "Min of c location: 27\n"
     ]
    }
   ],
   "source": [
    "# Fill the following ***** with appropriate solution.\n",
    "a = ri(1,100,30)\n",
    "b = a.reshape(2,3,5)\n",
    "c = a.reshape(6,5)\n",
    "\n",
    "print(\"a:\", a)\n",
    "print(\"b:\", b)\n",
    "print(\"c:\", c)\n",
    "\n",
    "print(\"Max of a:\", a.max())\n",
    "print(\"Max of b:\",b.max())\n",
    "\n",
    "\n",
    "print(\"Max of a location:\", a.argmax())\n",
    "print(\"Max of b location:\", b.argmax())\n",
    "print(\"Max of c location:\", c.argmax())\n",
    "\n",
    "print(\"Min of a:\", a.min())\n",
    "print(\"Min of b:\",b.min())\n",
    "\n",
    "\n",
    "print(\"Min of a location:\", a.argmin())\n",
    "print(\"Min of b location:\", b.argmin())\n",
    "print(\"Min of c location:\", b.argmin())\n",
    "\n"
   ]
  },
  {
   "cell_type": "markdown",
   "metadata": {},
   "source": [
    "## Universal functions\n",
    "\n",
    "6. Create 3*3 matrices of random single-digit numbers.<br/>\n",
    "Apply universal functions on it. (square root,exponetial,log10,Modulo etc.)"
   ]
  },
  {
   "cell_type": "code",
   "execution_count": 77,
   "metadata": {},
   "outputs": [
    {
     "name": "stdout",
     "output_type": "stream",
     "text": [
      "\n",
      "1st Matrix of random single-digit numbers\n",
      "----------------------------------------\n",
      " 49\n",
      "\n",
      "2nd Matrix of random single-digit numbers\n",
      "----------------------------------------\n",
      " 8\n",
      "\n",
      "Sq-root of 1st matrix using np\n",
      "------------------\n",
      " 7.0\n",
      "\n",
      "Exponential power of 1st matrix using np\n",
      " -------------------------------------------------- \n",
      " 1.9073465724950998e+21\n",
      "\n",
      "10-base logarithm on 1st matrix using np\n",
      " -------------------------------------------------- \n",
      " 1.6901960800285136\n",
      "\n",
      "Modulo reminder using np\n",
      " -------------------------------------------------- \n",
      " 1\n"
     ]
    }
   ],
   "source": [
    "\n",
    "mat1 = np.random.randint(1,50)\n",
    "mat2 = np.random.randint(1,25)\n",
    "print(\"\\n1st Matrix of random single-digit numbers\\n----------------------------------------\\n\",mat1)\n",
    "print(\"\\n2nd Matrix of random single-digit numbers\\n----------------------------------------\\n\",mat2)\n",
    "\n",
    "\n",
    "print(\"\\nSq-root of 1st matrix using np\\n------------------\\n\", np.sqrt(mat1))\n",
    "\n",
    "\n",
    "print(\"\\nExponential power of 1st matrix using np\\n\",'-'*50,\"\\n\", np.exp(mat1))\n",
    "\n",
    "\n",
    "print(\"\\n10-base logarithm on 1st matrix using np\\n\",'-'*50,\"\\n\", np.log10(mat1) )\n",
    "\n",
    "\n",
    "print(\"\\nModulo reminder using np\\n\",'-'*50,\"\\n\", np.fmod(mat1,mat2))\n"
   ]
  },
  {
   "cell_type": "markdown",
   "metadata": {},
   "source": [
    "### 7.Generating matrices from distributions"
   ]
  },
  {
   "cell_type": "code",
   "execution_count": 79,
   "metadata": {},
   "outputs": [
    {
     "name": "stdout",
     "output_type": "stream",
     "text": [
      "Random number generation (from Uniform distribution)\n",
      "[[0.36837647 0.48632922 0.3797699 ]\n",
      " [0.80677961 0.25366211 0.61062068]]\n",
      "Numbers from Normal distribution with zero mean and standard deviation 1 i.e. standard normal\n",
      "[[-1.44345033 -1.1934565   1.26548033]\n",
      " [-1.43325843  0.23585714 -2.34997119]\n",
      " [ 0.93131644 -0.29082541 -0.45783313]\n",
      " [-0.40005523 -0.84239668 -0.56433677]]\n",
      "Random integer vector: [ 2 66 30 20 33 73 21 71 21  4]\n",
      "\n",
      "Random integer matrix\n",
      "[[86 74 36 74]\n",
      " [20 20  4 33]\n",
      " [99 44 34 34]\n",
      " [21 27 11 97]]\n",
      "\n",
      "20 samples drawn from a dice throw: [1 4 5 6 4 5 2 6 4 3 4 2 3 2 2 2 4 1 5 2]\n"
     ]
    }
   ],
   "source": [
    "\n",
    "print(\"Random number generation (from Uniform distribution)\")\n",
    "print(np.random.rand(2,3)) # 2 by 3 matrix with random numbers ranging from 0 to 1, Note no Tuple is necessary \n",
    "\n",
    "print(\"Numbers from Normal distribution with zero mean and standard deviation 1 i.e. standard normal\")\n",
    "print(np.random.randn(4,3))\n",
    "\n",
    "print(\"Random integer vector:\",np.random.randint(1,100,10)) #randint (low, high, # of samples to be drawn)\n",
    "print (\"\\nRandom integer matrix\")\n",
    "print(np.random.randint(1,100,(4,4))) #randint (low, high, # of samples to be drawn in a tuple to form a matrix)\n",
    "\n",
    "print(\"\\n20 samples drawn from a dice throw:\",np.random.randint(1,7,20)) # 20 samples drawn from a dice throw"
   ]
  },
  {
   "cell_type": "markdown",
   "metadata": {},
   "source": [
    "### 8.Find the nearest value from a given number in an array using NumPy."
   ]
  },
  {
   "cell_type": "code",
   "execution_count": 105,
   "metadata": {},
   "outputs": [
    {
     "name": "stdout",
     "output_type": "stream",
     "text": [
      "[ 2  2 10  3  7]\n",
      "10\n"
     ]
    }
   ],
   "source": [
    "#Steps\n",
    "#Create an array of 5 random element from 1 to 12\n",
    "#Suppose find the nearest values of 10 in an array so set value=10\n",
    "#find the index where difference is minimum and get the element\n",
    "\n",
    "import numpy as np\n",
    "def find_nearest(array, value):\n",
    "    array = np.asarray(array)\n",
    "    idx = (np.abs(array - value)).argmin()\n",
    "    return array[idx]\n",
    "\n",
    "\n",
    "array = np.random.randint(1,12,5)\n",
    "print(array)\n",
    "value = 10\n",
    "\n",
    "print(find_nearest(array, value))\n",
    "\n"
   ]
  },
  {
   "cell_type": "markdown",
   "metadata": {},
   "source": [
    "### 9.Write code using numpy to produce following output\n",
    "[[0 0 0] [0 1 2] [0 2 4]]"
   ]
  },
  {
   "cell_type": "code",
   "execution_count": 83,
   "metadata": {},
   "outputs": [
    {
     "name": "stdout",
     "output_type": "stream",
     "text": [
      "[[0 0 0]\n",
      " [0 1 2]\n",
      " [0 2 4]]\n"
     ]
    }
   ],
   "source": [
    "import numpy as np\n",
    "a = np.array([[0, 0, 0],\n",
    "              [0, 1, 2],\n",
    "              [0, 2, 4]])\n",
    "print(a)"
   ]
  }
 ],
 "metadata": {
  "kernelspec": {
   "display_name": "Python 3",
   "language": "python",
   "name": "python3"
  },
  "language_info": {
   "codemirror_mode": {
    "name": "ipython",
    "version": 3
   },
   "file_extension": ".py",
   "mimetype": "text/x-python",
   "name": "python",
   "nbconvert_exporter": "python",
   "pygments_lexer": "ipython3",
   "version": "3.7.3"
  }
 },
 "nbformat": 4,
 "nbformat_minor": 2
}
