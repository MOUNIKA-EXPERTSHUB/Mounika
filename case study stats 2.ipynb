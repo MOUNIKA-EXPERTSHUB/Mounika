{
 "cells": [
  {
   "cell_type": "markdown",
   "metadata": {},
   "source": [
    "Problem Statement 1: In each of the following situations, state whether it is a correctly stated hypothesis testing problem and why?\n",
    "\n",
    "H0: μ = 25, H1: μ ≠ 25\n",
    "\n",
    "H0: σ > 10, H1: σ = 10\n",
    "\n",
    "H0: x = 50, H1: x ≠ 50\n",
    "\n",
    "H0: p = 0.1, H1: p = 0.5\n",
    "\n",
    "H0: s = 30, H1: s > 30"
   ]
  },
  {
   "cell_type": "code",
   "execution_count": 1,
   "metadata": {},
   "outputs": [],
   "source": [
    "# 1. Correctly stated. \n",
    "# 2. Incorrectly stated. H1 should be sigma <=10\n",
    "# 3. Correctly stated.\n",
    "# 4. Incorrectly stated. H1 should be p!=0.1\n",
    "# 5. Correctly stated."
   ]
  },
  {
   "cell_type": "markdown",
   "metadata": {},
   "source": [
    "\n",
    "Problem Statement 2:\n",
    "\n",
    "The college bookstore tells prospective students that the average cost of its textbooks is Rs. 52 with a standard deviation of Rs. 4.50. A group of smart statistics students thinks that the average cost is higher. To test the bookstore’s claim against their alternative, the students will select a random sample of size 100. Assume that the mean from their random sample is Rs. 52.80. Perform a hypothesis test at the 5% level of significance and state your decision."
   ]
  },
  {
   "cell_type": "code",
   "execution_count": 2,
   "metadata": {},
   "outputs": [
    {
     "name": "stdout",
     "output_type": "stream",
     "text": [
      "Z0 = 1.7777777777777715\n",
      "Critical value = 1.6448536269514722\n",
      "Reject the null hypothesis. The average cost is higher than 52.\n"
     ]
    }
   ],
   "source": [
    "import scipy.stats\n",
    "# H0 mu <=52\n",
    "# H1: mu > 52\n",
    "\n",
    "# Given: \n",
    "mu, sigma, xbar, alpha, n= 52, 4.5, 52.8, 0.05, 100\n",
    "from math import sqrt \n",
    "#Calculating Test statistic\n",
    "Z0 = (xbar-mu)/(sigma / sqrt(n) )\n",
    "print(\"Z0 = \"+str(Z0))\n",
    "\n",
    "# Significance level = 5%\n",
    "\n",
    "#Calculating critical value\n",
    "critical = scipy.stats.norm.ppf(0.95)\n",
    "print(\"Critical value = \"+str(critical))\n",
    "\n",
    "#Testing hypothesis\n",
    "if (critical < abs(Z0) ):\n",
    "    print(\"Reject the null hypothesis. The average cost is higher than 52.\")    \n",
    "else:\n",
    "    print(\"Accept the null hypothesis. The average cost is not higher than 52.\")"
   ]
  },
  {
   "cell_type": "markdown",
   "metadata": {},
   "source": [
    "\n",
    "Problem Statement 3:\n",
    "\n",
    "A certain chemical pollutant in the Genesee River has been constant for several years with mean μ = 34 ppm (parts per million) and standard deviation σ = 8 ppm. A group of factory representatives whose companies discharge liquids into the river is now claiming that they have lowered the average with improved filtration devices. A group of environmentalists will test to see if this is true at the 1% level of significance. Assume that their sample of size 50 gives a mean of 32.5 ppm.\n",
    "\n",
    "Perform a hypothesis test at the 1% level of significance and state your decision."
   ]
  },
  {
   "cell_type": "code",
   "execution_count": 3,
   "metadata": {},
   "outputs": [
    {
     "name": "stdout",
     "output_type": "stream",
     "text": [
      "Z0 = -1.3258252147247767\n",
      "Critical value = 2.5758293035489004\n",
      "Accept the null hypothesis. The average chemical pollutant has been lowered\n"
     ]
    }
   ],
   "source": [
    "import scipy.stats\n",
    "# H0 mu = 34\n",
    "# H1: mu != 34\n",
    "\n",
    "# Given: \n",
    "mu, sigma, xbar, alpha, n= 34, 8, 32.5, 0.01, 50\n",
    "from math import sqrt \n",
    "#Calculating Test statistic\n",
    "Z0 = (xbar-mu)/(sigma / sqrt(n) )\n",
    "print(\"Z0 = \"+str(Z0))\n",
    "\n",
    "# Significance level = 1%\n",
    "\n",
    "#Calculating critical value\n",
    "critical = scipy.stats.norm.ppf(0.995)\n",
    "print(\"Critical value = \"+str(critical))\n",
    "\n",
    "#Testing hypothesis\n",
    "if (critical < abs(Z0) ):\n",
    "    print(\"Reject the null hypothesis. The average chemical pollutant has not been lowered\")    \n",
    "else:\n",
    "    print(\"Accept the null hypothesis. The average chemical pollutant has been lowered\")"
   ]
  },
  {
   "cell_type": "markdown",
   "metadata": {},
   "source": [
    "Problem Statement 4:\n",
    "\n",
    "Based on population figures and other general information on the U.S. population, suppose it has been estimated that, on average, a family of four in the U.S. spends about $1135 annually on dental expenditures. Suppose further that a regional dental association wants to test to determine if this figure is accurate for their area of country. To test this, 22 families of 4 are randomly selected from the population in that area of the country and a log is kept of the family’s dental expenditure for one year. The resulting data are given below. Assuming, that dental expenditure is normally distributed in the population, use the data and an alpha of 0.5 to test the dental association’s hypothesis.\n",
    "\n",
    "1008, 812, 1117, 1323, 1308, 1415, 831, 1021, 1287, 851, 930, 730, 699, 872, 913, 944, 954, 987, 1695, 995, 1003, 994"
   ]
  },
  {
   "cell_type": "code",
   "execution_count": 4,
   "metadata": {},
   "outputs": [
    {
     "name": "stdout",
     "output_type": "stream",
     "text": [
      "sigma = 240.3745859246388\n",
      "xbar = 1031.3181818181818\n",
      "Z0 = -2.023137479931484\n",
      "Critical value = 1.959963984540054\n",
      "Reject the null hypothesis. The data is not accurate for their area of country\n"
     ]
    }
   ],
   "source": [
    "import scipy.stats\n",
    "import statistics as stat\n",
    "\n",
    "# H0 mu = 1135\n",
    "# H1: mu != 1135\n",
    "\n",
    "array = [1008, 812, 1117, 1323, 1308, 1415, 831, 1021, 1287, 851, 930, 730, 699, 872, 913, 944, 954, 987, 1695, 995, 1003, 994]\n",
    "sigma = stat.stdev(array)\n",
    "xbar = stat.mean(array)\n",
    "print(\"sigma = \"+str(sigma))\n",
    "print(\"xbar = \"+str(xbar))\n",
    "\n",
    "# Given: \n",
    "mu, alpha, n= 1135, 0.5, 22\n",
    "from math import sqrt \n",
    "\n",
    "# Significance level is 5 %\n",
    "\n",
    "#Calculating Test statistic\n",
    "Z0 = (xbar-mu)/(sigma / sqrt(n) )\n",
    "print(\"Z0 = \"+str(Z0))\n",
    "\n",
    "#Calculating critical value\n",
    "critical = scipy.stats.norm.ppf(0.975)\n",
    "print(\"Critical value = \"+str(critical))\n",
    "\n",
    "#Testing hypothesis\n",
    "if (critical < abs(Z0) ):\n",
    "    print(\"Reject the null hypothesis. The data is not accurate for their area of country\")    \n",
    "else:\n",
    "    print(\"Accept the null hypothesis. The data is accurate for their area of country\")"
   ]
  },
  {
   "cell_type": "markdown",
   "metadata": {},
   "source": [
    "Problem Statement 5:\n",
    "\n",
    "In a report prepared by the Economic Research Department of a major bank the Department manager maintains that the average annual family income on Metropolis is 48,432 dollars. What do you conclude about the validity of the report if a random sample of 400 families shows and average income of 48,574 dollars with a standard deviation of 2000?"
   ]
  },
  {
   "cell_type": "code",
   "execution_count": 5,
   "metadata": {},
   "outputs": [
    {
     "name": "stdout",
     "output_type": "stream",
     "text": [
      "Z0 = 1.42\n",
      "Critical value = 1.959963984540054\n",
      "Accept the null hypothesis. The average annual family income on Metropolis is 48,432 dollars\n"
     ]
    }
   ],
   "source": [
    "import scipy.stats\n",
    "# H0 mu = 48432\n",
    "# H1: mu != 48432\n",
    "\n",
    "# Given: \n",
    "mu, sigma, xbar, alpha, n= 48432, 2000, 48574, 0.5, 400\n",
    "from math import sqrt \n",
    "#Calculating Test statistic\n",
    "Z0 = (xbar-mu)/(sigma / sqrt(n) )\n",
    "print(\"Z0 = \"+str(Z0))\n",
    "\n",
    "# Significance level = 5%\n",
    "\n",
    "#Calculating critical value\n",
    "critical = scipy.stats.norm.ppf(0.975)\n",
    "print(\"Critical value = \"+str(critical))\n",
    "\n",
    "#Testing hypothesis\n",
    "if (critical < abs(Z0) ):\n",
    "    print(\"Reject the null hypothesis. The average annual family income on Metropolis is not 48,432 dollars\")    \n",
    "else:\n",
    "    print(\"Accept the null hypothesis. The average annual family income on Metropolis is 48,432 dollars\")"
   ]
  },
  {
   "cell_type": "markdown",
   "metadata": {},
   "source": [
    "\n",
    "Problem Statement 6:\n",
    "\n",
    "Suppose that in past years the average price per square foot for warehouses in the United States has been dollar 32.28. A national real estate investor wants to determine whether that figure has changed now. The investor hires a researcher who randomly samples 19 warehouses that are for sale across the United States and finds that the mean price per square foot is dollar 31.67, with a standard deviation of dollar 1.29. assume that the prices of warehouse footage are normally distributed in population. If the researcher uses a 5% level of significance, what statistical conclusion can be reached? What are the hypotheses?"
   ]
  },
  {
   "cell_type": "code",
   "execution_count": 6,
   "metadata": {},
   "outputs": [
    {
     "name": "stdout",
     "output_type": "stream",
     "text": [
      "Z0 = -1.04748734302141\n",
      "Critical value = 1.959963984540054\n",
      "Accept the null hypothesis. The average price has not changed now\n"
     ]
    }
   ],
   "source": [
    "import scipy.stats\n",
    "# H0 mu = 32.28\n",
    "# H1: mu != 32.28\n",
    "\n",
    "# Given: \n",
    "mu, sigma, xbar, alpha, n= 32.28, 1.29, 31.97, 0.5, 19\n",
    "from math import sqrt \n",
    "#Calculating Test statistic\n",
    "Z0 = (xbar-mu)/(sigma / sqrt(n) )\n",
    "print(\"Z0 = \"+str(Z0))\n",
    "\n",
    "# Significance level = 5%\n",
    "\n",
    "#Calculating critical value\n",
    "critical = scipy.stats.norm.ppf(0.975)\n",
    "print(\"Critical value = \"+str(critical))\n",
    "\n",
    "#Testing hypothesis\n",
    "if (critical < abs(Z0) ):\n",
    "    print(\"Reject the null hypothesis. The average price has changed now\")    \n",
    "else:\n",
    "    print(\"Accept the null hypothesis. The average price has not changed now\")"
   ]
  },
  {
   "cell_type": "markdown",
   "metadata": {},
   "source": [
    "\n",
    "Problem Statement 8:\n",
    "\n",
    "Find the t-score for a sample size of 16 taken from a population with mean 10 when the sample mean is 12 and the sample standard deviation is 1.5."
   ]
  },
  {
   "cell_type": "code",
   "execution_count": 7,
   "metadata": {},
   "outputs": [
    {
     "name": "stdout",
     "output_type": "stream",
     "text": [
      "t-score = 5.333333333333333\n"
     ]
    }
   ],
   "source": [
    "mu, xbar, S, n = 10, 12, 1.5, 16\n",
    "\n",
    "#Calculating Test statistic\n",
    "tscore = (xbar-mu)/(S / sqrt(n) )\n",
    "print(\"t-score = \"+str(tscore))"
   ]
  },
  {
   "cell_type": "markdown",
   "metadata": {},
   "source": [
    "\n",
    "Problem Statement 9:\n",
    "\n",
    "Find the t-score below which we can expect 99% of sample means will fall if samples of size 16 are taken from a normally distributed population."
   ]
  },
  {
   "cell_type": "code",
   "execution_count": 8,
   "metadata": {},
   "outputs": [
    {
     "name": "stdout",
     "output_type": "stream",
     "text": [
      "t-score = 2.602480294995493\n"
     ]
    }
   ],
   "source": [
    "n = 16\n",
    "dof = n-1\n",
    "tscore = scipy.stats.t.ppf(0.99,dof)\n",
    "print(\"t-score = \"+str(tscore))"
   ]
  },
  {
   "cell_type": "markdown",
   "metadata": {},
   "source": [
    "roblem Statement 10:\n",
    "\n",
    "If a random sample of size 25 drawn from a normal population gives a mean of 60 and a standard deviation of 4, find the range of t-scores where we can expect to find the middle 95% of all sample means. Compute the probability that (−t0.05 <t<t0.10)."
   ]
  },
  {
   "cell_type": "code",
   "execution_count": 9,
   "metadata": {},
   "outputs": [
    {
     "name": "stdout",
     "output_type": "stream",
     "text": [
      "Range of t-score where we can expect to find the middle 95% of all sample means is +-2.0638985616280205\n",
      "The probability for (−t0.05 < t < t0.10) is 0.4802680948881076\n"
     ]
    }
   ],
   "source": [
    "n = 25\n",
    "dof = n-1\n",
    "tscore = scipy.stats.t.ppf(0.975,dof)\n",
    "print(\"Range of t-score where we can expect to find the middle 95% of all sample means is +-\"+str(tscore))\n",
    "\n",
    "probability = 1- scipy.stats.t.cdf(0.05,dof)\n",
    "print(\"The probability for (−t0.05 < t < t0.10) is\",probability)"
   ]
  },
  {
   "cell_type": "markdown",
   "metadata": {},
   "source": [
    "\n",
    "Problem Statement 11:\n",
    "\n",
    "Two-tailed test for difference between two population means Is there evidence to conclude that the number of people travelling from Bangalore to Chennai is different from the number of people travelling from Bangalore to Hosur in a week, given the following:\n",
    "\n",
    "Population 1: Bangalore to Chennai\n",
    "\n",
    "n1 = 1200\n",
    "\n",
    "x1 = 452\n",
    "\n",
    "s1 = 212\n",
    "\n",
    "Population 2: Bangalore to Hosur\n",
    "\n",
    "n2 = 800\n",
    "\n",
    "x2 = 523\n",
    "\n",
    "s2 = 185"
   ]
  },
  {
   "cell_type": "code",
   "execution_count": 10,
   "metadata": {},
   "outputs": [
    {
     "name": "stdout",
     "output_type": "stream",
     "text": [
      "Z-value = -7.972266814748037\n",
      "P-value = 7.789500133742489e-16\n",
      "Reject the null hypothesis.\n"
     ]
    }
   ],
   "source": [
    "import scipy.stats\n",
    "# H0: mu1 - mu2 = 0\n",
    "# H1: mu1 - mu2 != 0\n",
    "\n",
    "# Given: \n",
    "n1, x1bar, sigma1, n2, x2bar, sigma2 = 1200, 452, 212, 800, 523, 183\n",
    "\n",
    "from math import sqrt \n",
    "#Calculating Test statistic\n",
    "Z = ((x1bar-x2bar))/(sqrt(((sigma1**2)/n1)+((sigma2**2)/n2)))\n",
    "print(\"Z-value = \"+str(Z))\n",
    "\n",
    "# Significance level = 5%\n",
    "\n",
    "#P-value \n",
    "pvalue = scipy.stats.norm.cdf(Z)\n",
    "print(\"P-value = \"+str(pvalue))\n",
    "\n",
    "#Testing hypothesis with 5%\n",
    "if (pvalue < 0.05 ):\n",
    "    print(\"Reject the null hypothesis.\")    \n",
    "else:\n",
    "    print(\"Accept the null hypothesis.\")"
   ]
  },
  {
   "cell_type": "markdown",
   "metadata": {},
   "source": [
    "\n",
    "Problem Statement 12:\n",
    "\n",
    "Is there evidence to conclude that the number of people preferring Duracell battery is different from the number of people preferring Energizer battery, given the following:\n",
    "\n",
    "Population 1: Duracell\n",
    "\n",
    "n1 = 100\n",
    "\n",
    "x1 = 308\n",
    "\n",
    "s1 = 84\n",
    "\n",
    "Population 2: Energizer\n",
    "\n",
    "n2 = 100\n",
    "\n",
    "x2 = 254\n",
    "\n",
    "s2 = 67"
   ]
  },
  {
   "cell_type": "code",
   "execution_count": 12,
   "metadata": {},
   "outputs": [
    {
     "name": "stdout",
     "output_type": "stream",
     "text": [
      "Z-value = 0.837617111389407\n",
      "P-value = 0.20112288971883086\n",
      "Accept the null hypothesis.\n"
     ]
    }
   ],
   "source": [
    "import scipy.stats\n",
    "# H0: mu1 - mu2 <=45\n",
    "# H1: mu1 - mu2 >45\n",
    "\n",
    "# Given: \n",
    "n1, x1bar, sigma1, n2, x2bar, sigma2 = 100, 308, 84, 100, 254, 67\n",
    "\n",
    "from math import sqrt \n",
    "#Calculating Test statistic\n",
    "Z = ((x1bar-x2bar)-45)/(sqrt(((sigma1**2)/n1)+((sigma2**2)/n2)))\n",
    "print(\"Z-value = \"+str(Z))\n",
    "\n",
    "# Significance level = 5%\n",
    "\n",
    "#P-value P(Z>0.837)\n",
    "pvalue = 1- scipy.stats.norm.cdf(Z)\n",
    "print(\"P-value = \"+str(pvalue))\n",
    "\n",
    "#Testing hypothesis with 5%\n",
    "if (pvalue < 0.05 ):\n",
    "    print(\"Reject the null hypothesis.\")    \n",
    "else:\n",
    "    print(\"Accept the null hypothesis.\")"
   ]
  },
  {
   "cell_type": "markdown",
   "metadata": {},
   "source": [
    "Problem Statement 13:\n",
    "\n",
    "Pooled estimate of the population variance Does the data provide sufficient evidence to conclude that average percentage increase in the price of sugar differs when it is sold at two different prices?\n",
    "\n",
    "Population 1:\n",
    "\n",
    "Price of sugar = Rs. 27.50\n",
    "\n",
    "n1 = 14\n",
    "\n",
    "x1 = 0.317%\n",
    "\n",
    "s1 = 0.12%\n",
    "\n",
    "Population 2: Price of sugar = Rs. 20.00\n",
    "\n",
    "n2 = 9\n",
    "\n",
    "x2 = 0.21%\n",
    "\n",
    "s2 = 0.11%"
   ]
  },
  {
   "cell_type": "code",
   "execution_count": 13,
   "metadata": {},
   "outputs": [
    {
     "name": "stdout",
     "output_type": "stream",
     "text": [
      "t-stat = -0.6440533005978795\n",
      "Critical value = 1.7207429028118775\n",
      "Accept the null hypothesis.\n"
     ]
    }
   ],
   "source": [
    "import scipy.stats\n",
    "# H0: mu1 - mu2 <= 0\n",
    "# H1: mu1 - mu2 > 0\n",
    "\n",
    "mu1,mu2 = 27.5, 20\n",
    "# Given: \n",
    "n1, x1, s1, n2, x2, s2 = 14, 31.7, 12, 9, 21, 11\n",
    "#degree of freedom\n",
    "dof = n1+n2-2\n",
    "\n",
    "from math import sqrt \n",
    "#Calculating Test statistic\n",
    "t = ((x2-x1)-(mu2-mu1))/(sqrt(((((n1-1)*(s1**2))+((n2-1)*(s2**2)))/(dof))*((1/n1)+(1/n2))))\n",
    "print(\"t-stat = \"+str(t))\n",
    "\n",
    "# Significance level = 5%\n",
    "\n",
    "#Calculating critical value\n",
    "critical = scipy.stats.t.ppf(0.95,dof)\n",
    "print(\"Critical value = \"+str(critical))\n",
    "\n",
    "#Testing hypothesis\n",
    "if (critical < abs(t) ):\n",
    "    print(\"Reject the null hypothesis.\")    \n",
    "else:\n",
    "    print(\"Accept the null hypothesis.\")"
   ]
  },
  {
   "cell_type": "markdown",
   "metadata": {},
   "source": [
    "Problem Statement 14:\n",
    "\n",
    "The manufacturers of compact disk players want to test whether a small price reduction is enough to increase sales of their product. Is there evidence that the small price reduction is enough to increase sales of compact disk players?\n",
    "\n",
    "Population 1: Before reduction\n",
    "\n",
    "n1 = 15\n",
    "\n",
    "x1 = Rs. 6598\n",
    "\n",
    "s1 = Rs. 844\n",
    "\n",
    "Population 2: After reduction\n",
    "\n",
    "n2 = 12\n",
    "\n",
    "x2 = RS. 6870\n",
    "\n",
    "s2 = Rs. 669"
   ]
  },
  {
   "cell_type": "code",
   "execution_count": 14,
   "metadata": {},
   "outputs": [
    {
     "name": "stdout",
     "output_type": "stream",
     "text": [
      "t-stat = 0.9098300343990461\n",
      "Critical value = 2.059538552753294\n",
      "Accept the null hypothesis. Price reduction does not significantly affect sales\n"
     ]
    }
   ],
   "source": [
    "import scipy.stats\n",
    "# H0: mu1 - mu2 <= 0\n",
    "# H1: mu1 - mu2 > 0\n",
    "\n",
    "mu1,mu2 = 0,0\n",
    "# Given: \n",
    "n1, x1, s1, n2, x2, s2 = 15, 6598, 844, 12, 6870, 669\n",
    "#degree of freedom\n",
    "dof = n1+n2-2\n",
    "\n",
    "from math import sqrt \n",
    "#Calculating Test statistic\n",
    "t = ((x2-x1)-(mu2-mu1))/(sqrt(((((n1-1)*(s1**2))+((n2-1)*(s2**2)))/(dof))*((1/n1)+(1/n2))))\n",
    "print(\"t-stat = \"+str(t))\n",
    "\n",
    "# Significance level = 5%\n",
    "\n",
    "#Calculating critical value\n",
    "critical = scipy.stats.t.ppf(0.975,dof)\n",
    "print(\"Critical value = \"+str(critical))\n",
    "\n",
    "#Testing hypothesis\n",
    "if (critical < abs(t) ):\n",
    "    print(\"Reject the null hypothesis. Price reduction significantly affects sales\")    \n",
    "else:\n",
    "    print(\"Accept the null hypothesis. Price reduction does not significantly affect sales\")"
   ]
  },
  {
   "cell_type": "markdown",
   "metadata": {},
   "source": [
    "Problem Statement 15:\n",
    "\n",
    "Comparisons of two population proportions when the hypothesized difference is zero Carry out a two-tailed test of the equality of banks’ share of the car loan market in 1980 and 1995.\n",
    "\n",
    "Population 1: 1980\n",
    "\n",
    "n1 = 100\n",
    "\n",
    "x1 = 53\n",
    "\n",
    "p 1 = 0.53\n",
    "\n",
    "Population 2: 1985\n",
    "\n",
    "n2 = 100\n",
    "\n",
    "x2 = 43\n",
    "\n",
    "p 2= 0.43"
   ]
  },
  {
   "cell_type": "code",
   "execution_count": 15,
   "metadata": {},
   "outputs": [
    {
     "name": "stdout",
     "output_type": "stream",
     "text": [
      "Z-value = 1.4153462926807452\n",
      "Critical value = 1.959963984540054\n",
      "Accept the null hypothesis. There is no significant difference between bank shares of car loans in 1980 and 1985\n"
     ]
    }
   ],
   "source": [
    "import scipy.stats\n",
    "# H0: p1 - p2 = 0\n",
    "# H1: p1 - p2 != 0\n",
    "\n",
    "# Given: \n",
    "n1, x1, p1, n2, x2, p2 = 100, 53, 0.53, 100, 43, 0.43\n",
    "#degree of freedom\n",
    "phat = (x1+x2)/(n1+n2)\n",
    "\n",
    "from math import sqrt \n",
    "#Calculating Test statistic\n",
    "Z = (p1-p2)/(sqrt((phat)*(1-phat)*((1/n1)+(1/n2))))\n",
    "print(\"Z-value = \"+str(Z))\n",
    "\n",
    "# Significance level = 5%\n",
    "\n",
    "#Calculating critical value\n",
    "critical = scipy.stats.norm.ppf(0.975)\n",
    "print(\"Critical value = \"+str(critical))\n",
    "\n",
    "#Testing hypothesis\n",
    "if (critical < abs(Z) ):\n",
    "    print(\"Reject the null hypothesis. There is significant difference between bank shares of car loans in 1980 and 1985\")    \n",
    "else:\n",
    "    print(\"Accept the null hypothesis. There is no significant difference between bank shares of car loans in 1980 and 1985\")"
   ]
  },
  {
   "cell_type": "markdown",
   "metadata": {},
   "source": [
    "\n",
    "Problem Statement 16:\n",
    "\n",
    "Carry out a one-tailed test to determine whether the population proportion of traveler’s check buyers who buy at least $2500 in checks when sweepstakes prizes are offered as at least 10% higher than the proportion of such buyers when no sweepstakes are on.\n",
    "\n",
    "Population 1: With sweepstakes\n",
    "\n",
    "n1 = 300\n",
    "\n",
    "x1 = 120\n",
    "\n",
    "p = 0.40\n",
    "\n",
    "Population 2: No sweepstakes\n",
    "\n",
    "n2 = 700\n",
    "\n",
    "x2 = 140\n",
    "\n",
    "p 2= 0.20"
   ]
  },
  {
   "cell_type": "code",
   "execution_count": 16,
   "metadata": {},
   "outputs": [
    {
     "name": "stdout",
     "output_type": "stream",
     "text": [
      "Z-value = 3.7200201944501536\n",
      "Critical value = 1.6448536269514722\n",
      "Reject the null hypothesis.\n"
     ]
    }
   ],
   "source": [
    "import scipy.stats\n",
    "# H0: p1 - p2 <= 0.10\n",
    "# H1: p1 - p2 > 0.10\n",
    "\n",
    "mu1,mu2 = 0,0\n",
    "# Given: \n",
    "n1, x1, p1hat, n2, x2, p2hat = 300, 120, 0.42, 700, 140, 0.2\n",
    "D=0.10\n",
    "#degree of freedom\n",
    "phat = (x1+x2)/(n1+n2)\n",
    "\n",
    "from math import sqrt \n",
    "#Calculating Test statistic\n",
    "Z = ((p1hat-p2hat)-D)/(sqrt((((p1hat)*(1-p1hat))/(n1))+(((p2hat)*(1-p2hat))/(n2))))\n",
    "print(\"Z-value = \"+str(Z))\n",
    "\n",
    "# Significance level = 5%\n",
    "\n",
    "#Calculating critical value\n",
    "critical = scipy.stats.norm.ppf(0.95)\n",
    "print(\"Critical value = \"+str(critical))\n",
    "\n",
    "#Testing hypothesis\n",
    "if (critical < abs(Z) ):\n",
    "    print(\"Reject the null hypothesis.\")    \n",
    "else:\n",
    "    print(\"Accept the null hypothesis.\")"
   ]
  },
  {
   "cell_type": "markdown",
   "metadata": {},
   "source": [
    "\n",
    "Problem Statement 17:\n",
    "\n",
    "A die is thrown 132 times with the following results: Number turned up: 1, 2, 3, 4, 5, 6 Frequency: 16, 20, 25, 14, 29, 28 Is the die unbiased? Consider the degrees of freedom as p − 1."
   ]
  },
  {
   "cell_type": "code",
   "execution_count": 17,
   "metadata": {},
   "outputs": [
    {
     "name": "stdout",
     "output_type": "stream",
     "text": [
      "The table of observed frequency is: \n",
      "     0    1    2    3    4    5\n",
      "0   16   20   25   14   29   28\n",
      "1  116  112  107  118  103  104\n",
      "\n",
      "Degree of freedom: 5\n",
      "\n",
      "The table of expected counts is: \n",
      "[[ 22.  22.  22.  22.  22.  22.]\n",
      " [110. 110. 110. 110. 110. 110.]]\n",
      "\n",
      "Chi-square value is : 10.8\n",
      "Critical value of chi-square with 5 degree of freedom is 11.070497693516351\n",
      "\n",
      "Accept the null hypothesis and concluding that the die is unbiased\n"
     ]
    }
   ],
   "source": [
    "import scipy.stats\n",
    "import pandas as pd\n",
    "from scipy.stats import chi2_contingency\n",
    "#1.\n",
    "# H0: The die is unbiased\n",
    "# H1: The die is biased\n",
    "observed_table = pd.DataFrame([[16,20,25,14,29,28],[116,112,107,118,103,104]])\n",
    "print(\"The table of observed frequency is: \")\n",
    "print(observed_table)\n",
    "#2.\n",
    "#Chi-square test statistic = Sigma(O-E)^2/E\n",
    "#O-observed frequency,E is the expected frequency under the null hypothesis and computed by:\n",
    "#E=(row_count*column_count)/sample size \n",
    "chi2, p, dof, expected = chi2_contingency(observed_table)\n",
    "#Degrees of freedom (dof)= (r-1)*(c-1) =(2-1)*(2-1) = 1\n",
    "print(\"\\nDegree of freedom: \"+str(dof))\n",
    "print(\"\\nThe table of expected counts is: \")\n",
    "print(expected)\n",
    "print(\"\\nChi-square value is : \"+str(chi2))\n",
    "\n",
    "cv = scipy.stats.chi2.ppf(0.95,dof)\n",
    "print(\"Critical value of chi-square with 5 degree of freedom is \"+ str(cv)+\"\\n\")\n",
    "if(cv > chi2):\n",
    "    print(\"Accept the null hypothesis and concluding that the die is unbiased\")\n",
    "else: \n",
    "    print(\"Reject the null hypothesis and concluding that the die is biased\")"
   ]
  },
  {
   "cell_type": "markdown",
   "metadata": {},
   "source": [
    "\n",
    "Problem Statement 18:\n",
    "\n",
    "In a certain town, there are about one million eligible voters. A simple random sample of 10,000 eligible voters was chosen to study the relationship between gender and participation in the last election. The results are summarized in the following 2X2 (read two by two) contingency table:\n",
    "    \n",
    "    We would want to check whether being a man or a woman (columns) is independent of having voted in the last election (rows). In other words, is “gender and voting independent”?"
   ]
  },
  {
   "cell_type": "code",
   "execution_count": 18,
   "metadata": {},
   "outputs": [
    {
     "name": "stdout",
     "output_type": "stream",
     "text": [
      "The table of observed frequency is: \n",
      "      0     1\n",
      "0  2792  3591\n",
      "1  1486  2131\n",
      "\n",
      "Degree of freedom: 1\n",
      "\n",
      "The table of expected counts is: \n",
      "[[2730.6474 3652.3526]\n",
      " [1547.3526 2069.6474]]\n",
      "\n",
      "Chi-square value is : 6.552337973968181\n",
      "Critical value of chi-square with 1 degree of freedom is 3.841458820694124\n",
      "\n",
      "Reject the null hypothesis and concluding that gender and voting are dependent\n"
     ]
    }
   ],
   "source": [
    "import scipy.stats\n",
    "import pandas as pd\n",
    "from scipy.stats import chi2_contingency\n",
    "#1.\n",
    "# H0: Gender and voting are independent\n",
    "# H1: Gender and voting are dependent \n",
    "observed_table = pd.DataFrame([[2792,3591],[1486,2131]])\n",
    "print(\"The table of observed frequency is: \")\n",
    "print(observed_table)\n",
    "#2.\n",
    "#Chi-square test statistic = Sigma(O-E)^2/E\n",
    "#O-observed frequency,E is the expected frequency under the null hypothesis and computed by:\n",
    "#E=(row_count*column_count)/sample size \n",
    "chi2, p, dof, expected = chi2_contingency(observed_table)\n",
    "#Degrees of freedom (dof)= (r-1)*(c-1) =(2-1)*(2-1) = 1\n",
    "print(\"\\nDegree of freedom: \"+str(dof))\n",
    "print(\"\\nThe table of expected counts is: \")\n",
    "print(expected)\n",
    "print(\"\\nChi-square value is : \"+str(chi2))\n",
    "\n",
    "cv = scipy.stats.chi2.ppf(0.95,dof)\n",
    "print(\"Critical value of chi-square with 1 degree of freedom is \"+ str(cv)+\"\\n\")\n",
    "if(cv > chi2):\n",
    "    print(\"Accept the null hypothesis and concluding that gender and voting are independent\")\n",
    "else: \n",
    "    print(\"Reject the null hypothesis and concluding that gender and voting are dependent\")"
   ]
  },
  {
   "cell_type": "markdown",
   "metadata": {},
   "source": [
    "\n",
    "Problem Statement 19:\n",
    "\n",
    "A sample of 100 voters are asked which of four candidates they would vote for in an election. The number supporting each candidate is given below:"
   ]
  },
  {
   "cell_type": "code",
   "execution_count": 19,
   "metadata": {},
   "outputs": [
    {
     "name": "stdout",
     "output_type": "stream",
     "text": [
      "The table of observed frequency is: \n",
      "    0   1   2   3\n",
      "0  41  19  24  16\n",
      "1  59  81  76  84\n",
      "\n",
      "Degree of freedom: 3\n",
      "\n",
      "The table of expected counts is: \n",
      "[[25. 25. 25. 25.]\n",
      " [75. 75. 75. 75.]]\n",
      "\n",
      "Chi-square value is : 19.94666666666667\n",
      "Critical value of chi-square with 3 degree of freedom is 7.814727903251179\n",
      "\n",
      "Reject the null hypothesis and all the candidates are equally popular\n"
     ]
    }
   ],
   "source": [
    "import scipy.stats\n",
    "import pandas as pd\n",
    "from scipy.stats import chi2_contingency\n",
    "#1.\n",
    "# H0: All the candidates are not equally popular\n",
    "# H1: All the candidates are equally popular\n",
    "\n",
    "observed_table = pd.DataFrame([[41,19,24,16],[59,81,76,84]])\n",
    "print(\"The table of observed frequency is: \")\n",
    "print(observed_table)\n",
    "#2.\n",
    "#Chi-square test statistic = Sigma(O-E)^2/E\n",
    "#O-observed frequency,E is the expected frequency under the null hypothesis and computed by:\n",
    "#E=(row_count*column_count)/sample size \n",
    "chi2, p, dof, expected = chi2_contingency(observed_table)\n",
    "#Degrees of freedom (dof)= (r-1)*(c-1) \n",
    "print(\"\\nDegree of freedom: \"+str(dof))\n",
    "print(\"\\nThe table of expected counts is: \")\n",
    "print(expected)\n",
    "print(\"\\nChi-square value is : \"+str(chi2))\n",
    "\n",
    "cv = scipy.stats.chi2.ppf(0.95,dof)\n",
    "print(\"Critical value of chi-square with 3 degree of freedom is \"+ str(cv)+\"\\n\")\n",
    "if(cv > chi2):\n",
    "    print(\"Accept the null hypothesis and all the candidates are not equally popular\")\n",
    "else: \n",
    "    print(\"Reject the null hypothesis and all the candidates are equally popular\")"
   ]
  },
  {
   "cell_type": "markdown",
   "metadata": {},
   "source": [
    "Problem Statement 20:\n",
    "\n",
    "Children of three ages are asked to indicate their preference for three photographs of adults. Do the data suggest that there is a significant relationship between age and photograph preference? What is wrong with this study? [Chi-Square = 29.6, with 4 df: p < 0.05]."
   ]
  },
  {
   "cell_type": "code",
   "execution_count": 20,
   "metadata": {},
   "outputs": [
    {
     "name": "stdout",
     "output_type": "stream",
     "text": [
      "The table of observed frequency is: \n",
      "    0   1   2\n",
      "0  18  22  20\n",
      "1   2  28  40\n",
      "2  20  10  40\n",
      "\n",
      "Degree of freedom: 4\n",
      "\n",
      "The table of expected counts is: \n",
      "[[12. 18. 30.]\n",
      " [14. 21. 35.]\n",
      " [14. 21. 35.]]\n",
      "\n",
      "Chi-square value is : 29.603174603174608\n",
      "Critical value of chi-square with 4 degree of freedom is 9.487729036781154\n",
      "\n",
      "Reject the null hypothesis and there is significant relationship between age and photograph preference\n"
     ]
    }
   ],
   "source": [
    "import scipy.stats\n",
    "import pandas as pd\n",
    "from scipy.stats import chi2_contingency\n",
    "#1.\n",
    "# H0: There is no significant relationship between age and photograph preference\n",
    "# H1: There is significant relationship between age and photograph preference\n",
    "\n",
    "observed_table = pd.DataFrame([[18,22,20],[2,28,40],[20,10,40]])\n",
    "print(\"The table of observed frequency is: \")\n",
    "print(observed_table)\n",
    "#2.\n",
    "#Chi-square test statistic = Sigma(O-E)^2/E\n",
    "#O-observed frequency,E is the expected frequency under the null hypothesis and computed by:\n",
    "#E=(row_count*column_count)/sample size \n",
    "chi2, p, dof, expected = chi2_contingency(observed_table)\n",
    "#Degrees of freedom (dof)= (r-1)*(c-1) \n",
    "print(\"\\nDegree of freedom: \"+str(dof))\n",
    "print(\"\\nThe table of expected counts is: \")\n",
    "print(expected)\n",
    "print(\"\\nChi-square value is : \"+str(chi2))\n",
    "\n",
    "cv = scipy.stats.chi2.ppf(0.95,dof)\n",
    "print(\"Critical value of chi-square with 4 degree of freedom is \"+ str(cv)+\"\\n\")\n",
    "if(cv > chi2):\n",
    "    print(\"Accept the null hypothesis and there is no significant relationship between age and photograph preference\")\n",
    "else: \n",
    "    print(\"Reject the null hypothesis and there is significant relationship between age and photograph preference\")"
   ]
  },
  {
   "cell_type": "markdown",
   "metadata": {},
   "source": [
    "Problem Statement 21:\n",
    "\n",
    "A study of conformity using the Asch paradigm involved two conditions: one where one confederate supported the true judgement and another where no confederate gave the correct response."
   ]
  },
  {
   "cell_type": "code",
   "execution_count": 21,
   "metadata": {},
   "outputs": [
    {
     "name": "stdout",
     "output_type": "stream",
     "text": [
      "The table of observed frequency is: \n",
      "    0   1\n",
      "0  18  40\n",
      "1  32  10\n",
      "\n",
      "Degree of freedom: 1\n",
      "\n",
      "The table of expected counts is: \n",
      "[[29. 29.]\n",
      " [21. 21.]]\n",
      "\n",
      "Chi-square value is : 18.10344827586207\n",
      "Critical value of chi-square with 1 degree of freedom is 3.841458820694124\n",
      "\n",
      "Reject the null hypothesis and there is no significant difference between the support conditions with which individuals are likely to conform\n"
     ]
    }
   ],
   "source": [
    "import scipy.stats\n",
    "import pandas as pd\n",
    "from scipy.stats import chi2_contingency\n",
    "#1.\n",
    "# H0: There is significant difference between the support conditions with which individuals are likely to conform\n",
    "# H1: There is no significant difference between the support conditions with which individuals are likely to conform\n",
    "\n",
    "observed_table = pd.DataFrame([[18,40],[32,10]])\n",
    "print(\"The table of observed frequency is: \")\n",
    "print(observed_table)\n",
    "#2.\n",
    "#Chi-square test statistic = Sigma(O-E)^2/E\n",
    "#O-observed frequency,E is the expected frequency under the null hypothesis and computed by:\n",
    "#E=(row_count*column_count)/sample size \n",
    "chi2, p, dof, expected = chi2_contingency(observed_table)\n",
    "#Degrees of freedom (dof)= (r-1)*(c-1) \n",
    "print(\"\\nDegree of freedom: \"+str(dof))\n",
    "print(\"\\nThe table of expected counts is: \")\n",
    "print(expected)\n",
    "print(\"\\nChi-square value is : \"+str(chi2))\n",
    "\n",
    "cv = scipy.stats.chi2.ppf(0.95,dof)\n",
    "print(\"Critical value of chi-square with 1 degree of freedom is \"+ str(cv)+\"\\n\")\n",
    "if(cv > chi2):\n",
    "    print(\"Accept the null hypothesis and there is significant difference between the support conditions with which individuals are likely to conform\")\n",
    "else: \n",
    "    print(\"Reject the null hypothesis and there is no significant difference between the support conditions with which individuals are likely to conform\")"
   ]
  },
  {
   "cell_type": "markdown",
   "metadata": {},
   "source": [
    "Problem Statement 22:\n",
    "\n",
    "We want to test whether short people differ with respect to their leadership qualities (Genghis Khan, Adolf Hitler and Napoleon were all stature-deprived, and how many midget MP's are there?) The following table shows the frequencies with which 43 short people and 52 tall people were categorized as \"leaders\", \"followers\" or as \"unclassifiable\". Is there a relationship between height and leadership qualities?\n",
    "\n",
    "[Chi-Square = 10.71, with 2 df: p < 0.01]."
   ]
  },
  {
   "cell_type": "code",
   "execution_count": 22,
   "metadata": {},
   "outputs": [
    {
     "name": "stdout",
     "output_type": "stream",
     "text": [
      "The table of observed frequency is: \n",
      "    0   1\n",
      "0  12  32\n",
      "1  22  14\n",
      "2   9   6\n",
      "\n",
      "Degree of freedom: 2\n",
      "\n",
      "The table of expected counts is: \n",
      "[[19.91578947 24.08421053]\n",
      " [16.29473684 19.70526316]\n",
      " [ 6.78947368  8.21052632]]\n",
      "\n",
      "Chi-square value is : 10.712198008709638\n",
      "Critical value of chi-square with 2 degree of freedom is 9.21034037197618\n",
      "\n",
      "Reject the null hypothesis and concluding that height and leadership qualities are related\n"
     ]
    }
   ],
   "source": [
    "import scipy.stats\n",
    "import pandas as pd\n",
    "from scipy.stats import chi2_contingency\n",
    "#1.\n",
    "# H0: Height and leadership qualities are not related\n",
    "# H1: Height and leadership qualities are related\n",
    "\n",
    "observed_table = pd.DataFrame([[12,32],[22,14],[9,6]])\n",
    "print(\"The table of observed frequency is: \")\n",
    "print(observed_table)\n",
    "#2.\n",
    "#Chi-square test statistic = Sigma(O-E)^2/E\n",
    "#O-observed frequency,E is the expected frequency under the null hypothesis and computed by:\n",
    "#E=(row_count*column_count)/sample size \n",
    "chi2, p, dof, expected = chi2_contingency(observed_table)\n",
    "#Degrees of freedom (dof)= (r-1)*(c-1) \n",
    "print(\"\\nDegree of freedom: \"+str(dof))\n",
    "print(\"\\nThe table of expected counts is: \")\n",
    "print(expected)\n",
    "print(\"\\nChi-square value is : \"+str(chi2))\n",
    "\n",
    "cv = scipy.stats.chi2.ppf(0.99,dof)\n",
    "print(\"Critical value of chi-square with 2 degree of freedom is \"+ str(cv)+\"\\n\")\n",
    "if(cv > chi2):\n",
    "    print(\"Accept the null hypothesis and concluding that height and leadership qualities are not related\")\n",
    "else: \n",
    "    print(\"Reject the null hypothesis and concluding that height and leadership qualities are related\")"
   ]
  },
  {
   "cell_type": "markdown",
   "metadata": {},
   "source": [
    "Problem Statement 23:\n",
    "\n",
    "Each respondent in the Current Population Survey of March 1993 was classified as employed, unemployed, or outside the labor force. The results for men in California age 35-44 can be cross-tabulated by marital status, as follows:"
   ]
  },
  {
   "cell_type": "code",
   "execution_count": 23,
   "metadata": {},
   "outputs": [
    {
     "name": "stdout",
     "output_type": "stream",
     "text": [
      "The table of observed frequency is: \n",
      "     0    1    2\n",
      "0  679  103  114\n",
      "1   63   10   20\n",
      "2   42   18   25\n",
      "\n",
      "Degree of freedom: 4\n",
      "\n",
      "The table of expected counts is: \n",
      "[[654.06331471 109.2886406  132.64804469]\n",
      " [ 67.88826816  11.34357542  13.76815642]\n",
      " [ 62.04841713  10.36778399  12.58379888]]\n",
      "\n",
      "Chi-square value is : 31.61310319407798\n",
      "Critical value of chi-square with 4 degree of freedom is 13.276704135987622\n",
      "\n",
      "Reject the null hypothesis and concluding that marital status and job status are related\n"
     ]
    }
   ],
   "source": [
    "import scipy.stats\n",
    "import pandas as pd\n",
    "from scipy.stats import chi2_contingency\n",
    "#1.\n",
    "# H0: Marital status is not related to job status\n",
    "# H1: Marital status seems to be related to job status\n",
    "\n",
    "observed_table = pd.DataFrame([[679,103,114],[63,10,20],[42,18,25]])\n",
    "print(\"The table of observed frequency is: \")\n",
    "print(observed_table)\n",
    "#2.\n",
    "#Chi-square test statistic = Sigma(O-E)^2/E\n",
    "#O-observed frequency,E is the expected frequency under the null hypothesis and computed by:\n",
    "#E=(row_count*column_count)/sample size \n",
    "chi2, p, dof, expected = chi2_contingency(observed_table)\n",
    "#Degrees of freedom (dof)= (r-1)*(c-1) \n",
    "print(\"\\nDegree of freedom: \"+str(dof))\n",
    "print(\"\\nThe table of expected counts is: \")\n",
    "print(expected)\n",
    "print(\"\\nChi-square value is : \"+str(chi2))\n",
    "\n",
    "cv = scipy.stats.chi2.ppf(0.99,dof)\n",
    "print(\"Critical value of chi-square with 4 degree of freedom is \"+ str(cv)+\"\\n\")\n",
    "if(cv > chi2):\n",
    "    print(\"Accept the null hypothesis and concluding that marital status and job status are not related\")\n",
    "else: \n",
    "    print(\"Reject the null hypothesis and concluding that marital status and job status are related\")"
   ]
  }
 ],
 "metadata": {
  "kernelspec": {
   "display_name": "Python 3",
   "language": "python",
   "name": "python3"
  },
  "language_info": {
   "codemirror_mode": {
    "name": "ipython",
    "version": 3
   },
   "file_extension": ".py",
   "mimetype": "text/x-python",
   "name": "python",
   "nbconvert_exporter": "python",
   "pygments_lexer": "ipython3",
   "version": "3.7.3"
  }
 },
 "nbformat": 4,
 "nbformat_minor": 2
}
